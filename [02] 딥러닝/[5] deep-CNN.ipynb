{
 "cells": [
  {
   "cell_type": "markdown",
   "metadata": {},
   "source": [
    "# Convloution (합성곱)\n"
   ]
  },
  {
   "cell_type": "markdown",
   "metadata": {},
   "source": [
    "특정한 패턴의 특징이 어디서 나타나는지 확인\n",
    "\n",
    "conv 필터를 가지고 특징맵을 만들어 본다.\n",
    "\n",
    "- 특징맵 (feature map)\n",
    "\n",
    "<img src=\"./img/c2.png\" width=70% height=70%>"
   ]
  },
  {
   "cell_type": "code",
   "execution_count": 1,
   "metadata": {},
   "outputs": [],
   "source": [
    "import numpy as np\n",
    "import pandas as pd\n",
    "import tensorflow as tf\n",
    "import matplotlib.pyplot as plt"
   ]
  },
  {
   "cell_type": "code",
   "execution_count": null,
   "metadata": {},
   "outputs": [],
   "source": [
    "### 영상 클론 코딩\n",
    "\n",
    "# 1.과거의 데이터를 준비\n",
    "(독립, 종속), _ = tf.keras.datasets.mnist.load_data()\n",
    "독립 = 독립.reshape(60000, 28, 28, 1) \n",
    "종속 = pd.get_dummies(종속)\n",
    "print(독립.shpae, 종속.shape)\n",
    "\n",
    "# 2. 모델의 구조를 만듭니다.\n",
    "X = tf.keras.layers.Input(shape=[28, 28, 1])\n",
    "H = tf.keras.layers.Conv2D(3, kernel_size=5, activation='swish')(X)\n",
    "H = tf.keras.layers.Conv2D(6, kernel_size=5, activation='swish')(X)\n",
    "H = tf.keras.layers.Flatten()(H)\n",
    "H = tf.keras.layers.Dense(84, acrivation='swish')(H)\n",
    "Y = tf.keras.layers.Dense(10, activation='softmax')(H)\n",
    "model = tf.keras.models.Model(X, Y)\n",
    "model.complie(loss='scategorical_corssentropy', merics='accuracy')\n",
    "\n",
    "# 3. 데이터로 모델을 학습(FIT)합니다.\n",
    "model.fit(독립, 종속, epochs=10)\n",
    "\n",
    "# 4. 모델을 이용합니다.\n",
    "print(\"Predictions : \", model.predict(독립[0:5]))\n",
    "\n",
    "\n",
    "https://youtu.be/5eYHZ7wC3Qs"
   ]
  },
  {
   "cell_type": "code",
   "execution_count": null,
   "metadata": {},
   "outputs": [],
   "source": []
  }
 ],
 "metadata": {
  "interpreter": {
   "hash": "40b396f7bb4524eebe16d5148ef674cb630ecbb9edf31b1d2c1678c5ede47175"
  },
  "kernelspec": {
   "display_name": "Python 3.8.12 ('webai')",
   "language": "python",
   "name": "python3"
  },
  "language_info": {
   "codemirror_mode": {
    "name": "ipython",
    "version": 3
   },
   "file_extension": ".py",
   "mimetype": "text/x-python",
   "name": "python",
   "nbconvert_exporter": "python",
   "pygments_lexer": "ipython3",
   "version": "3.8.12"
  },
  "orig_nbformat": 4
 },
 "nbformat": 4,
 "nbformat_minor": 2
}
