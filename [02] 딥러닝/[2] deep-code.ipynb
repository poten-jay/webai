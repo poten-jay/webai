{
 "cells": [
  {
   "cell_type": "markdown",
   "metadata": {},
   "source": [
    "선형수식 (막대기)를 여러개 써서 복잡한 함수를 만들 수 있음을 증명 논문\n",
    "\n",
    "- 원 함수에 근사한 막대기로 이루어진 함수를 만드는 것\n",
    "- 작은 막대기를 여러개 써서 근사한 함수를 만드는 것을 증명\n",
    "#\n",
    "[Multilayer feedforward networks are universal approximators ( 1989 )](https://www.sciencedirect.com/science/article/abs/pii/0893608089900208)\n",
    "- X와 Y사이에 특정 함수가 존재 한다면, Multi Layer는 인공신경망이 어떤 함수든 근사(Approximate)할 수 있다.\n",
    "]\n",
    "\n",
    "아무리 복잡한 함수라도 막대기로 표현할 수 있다.\n",
    "\n",
    "따라서, 딥러닝은 **모방은 천재** 라고 할 수 있다.\n",
    "\n",
    "---\n"
   ]
  },
  {
   "cell_type": "markdown",
   "metadata": {},
   "source": [
    "# Tensorflow Keras\n",
    "\n",
    "데이터 준비 (전처리)\n",
    "- 결측치, 이상치 처리\n",
    "- 수치형 : normalization (일반화-데이터 분포가 다르므로) & 범주형 : one-hot encoding\n",
    "- feature extraction & feature engineering\n",
    "- augmentation\n",
    "\n",
    "### 모델구성 방식\n",
    "- Funcional (Model)\n",
    "- Sequentail"
   ]
  },
  {
   "cell_type": "code",
   "execution_count": 2,
   "metadata": {},
   "outputs": [],
   "source": [
    "import tensorflow as tf\n",
    "\n",
    "# Sequential\n",
    "\n",
    "model = tf.keras.models.Sequential()\n",
    "model.add(tf.keras.layers.Input(shape=(13,)))\n",
    "model.add(tf.keras.layers.Dense(5, activation='relu'))\n",
    "model.add(tf.keras.layers.Dense(1))\n",
    "model.complie(optimizer='adam', loss='mes')\n",
    "model.fit(x_train, y_train, epochs=100)   "
   ]
  },
  {
   "cell_type": "code",
   "execution_count": null,
   "metadata": {},
   "outputs": [],
   "source": [
    "# Model\n",
    "\n",
    "X = tf.keras.layers.Input(shape=(13,))\n",
    "H = tf.keras.layers.Dense(5, activation='relu')(X))\n",
    "Y = tf.keras.layers.Dense(1)(H)\n",
    "model = tf.keras.models.Model(X, Y)\n",
    "model.compile(optimizer='adam', loss='mse')\n",
    "model.fit(x_train, y_train, epochs=100)\n",
    "\n",
    "# 자유로운 구성을 위해서는 Funcional (Model) 방식이 필요"
   ]
  },
  {
   "cell_type": "markdown",
   "metadata": {},
   "source": [
    "---\n",
    "\n",
    "### Neuron (우리 신경의 과정)\n",
    "![img](./img/neuron.jpg)\n",
    "1. 근처 뉴들들에게서 이진 신호를 받고\n",
    "2. 그 신호들을 잘 조합해서\n",
    "3. 일정 기준치가 넘으면 흥분을 하고\n",
    "4. 흥분을 하면 terminal로 신호를 보냄\n",
    "\n",
    "### Perceptron (Neuron의 수학적인 모델링)\n",
    "![img](./img/perceptron.jpg)\n",
    "\n",
    "### 인공신경망\n",
    "- perceptron 이 모여 Layer를 이루는 것  \n",
    "\n",
    "![img](./img/neuralnet.png)\n",
    "---"
   ]
  },
  {
   "cell_type": "markdown",
   "metadata": {},
   "source": []
  },
  {
   "cell_type": "code",
   "execution_count": null,
   "metadata": {},
   "outputs": [],
   "source": []
  }
 ],
 "metadata": {
  "interpreter": {
   "hash": "40b396f7bb4524eebe16d5148ef674cb630ecbb9edf31b1d2c1678c5ede47175"
  },
  "kernelspec": {
   "display_name": "Python 3.8.12 ('webai')",
   "language": "python",
   "name": "python3"
  },
  "language_info": {
   "codemirror_mode": {
    "name": "ipython",
    "version": 3
   },
   "file_extension": ".py",
   "mimetype": "text/x-python",
   "name": "python",
   "nbconvert_exporter": "python",
   "pygments_lexer": "ipython3",
   "version": "3.8.12"
  },
  "orig_nbformat": 4
 },
 "nbformat": 4,
 "nbformat_minor": 2
}
