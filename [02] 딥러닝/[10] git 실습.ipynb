{
 "cells": [
  {
   "cell_type": "markdown",
   "metadata": {},
   "source": [
    "# Git\n",
    "\n",
    "---"
   ]
  },
  {
   "cell_type": "markdown",
   "metadata": {},
   "source": [
    "https://github.com/egoingsb/offline/wiki/git\n",
    "\n",
    "---"
   ]
  },
  {
   "cell_type": "markdown",
   "metadata": {},
   "source": [
    "Git - 버전관리\n",
    "\n",
    "왜 버젼 관리를 하는가?\n",
    "1) 디버깅 - 버전 역순으로 확인 가능\n",
    "    - 시간여행을 할때는 체크아웃을 한다.\n",
    "\n",
    "\n",
    "\n",
    "버전관리에서..\n",
    "- 한번에 프로그램을 만들 수 없다. (버전 업 해야 한다)\n",
    "- 버그가 발견된다면..? (보통 버그는 나중에 발견된다.)\n",
    "- 버그는 제거되지 않은 상태로 다음버젼으로 내려감..\n",
    "\n",
    "이때, 버전관리를 하고 있다면.\n",
    "- 이전 버전으로 되돌리고, 또 그 전으로 되돌리고가 가능..\n",
    "\n"
   ]
  },
  {
   "cell_type": "markdown",
   "metadata": {},
   "source": [
    "---\n",
    "\n",
    "작업1"
   ]
  },
  {
   "cell_type": "markdown",
   "metadata": {},
   "source": [
    "작업2"
   ]
  },
  {
   "cell_type": "markdown",
   "metadata": {},
   "source": []
  },
  {
   "cell_type": "markdown",
   "metadata": {},
   "source": []
  },
  {
   "cell_type": "code",
   "execution_count": null,
   "metadata": {},
   "outputs": [],
   "source": []
  }
 ],
 "metadata": {
  "interpreter": {
   "hash": "40b396f7bb4524eebe16d5148ef674cb630ecbb9edf31b1d2c1678c5ede47175"
  },
  "kernelspec": {
   "display_name": "Python 3.8.12 ('webai')",
   "language": "python",
   "name": "python3"
  },
  "language_info": {
   "name": "python",
   "version": "3.8.12"
  },
  "orig_nbformat": 4
 },
 "nbformat": 4,
 "nbformat_minor": 2
}
