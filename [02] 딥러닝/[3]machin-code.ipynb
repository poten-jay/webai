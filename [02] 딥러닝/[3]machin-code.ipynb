{
 "cells": [
  {
   "cell_type": "markdown",
   "metadata": {},
   "source": [
    "# Machine learning 실습\n",
    "\n",
    "(2022-03-30)\n",
    "\n",
    "https://coherent-hortensia-d93.notion.site/bee4e7de5f114c08875577b1ad642051\n",
    "\n",
    "---\n",
    "\n",
    "### 1. 머신러닝 개요\n",
    "\n",
    "데이터로 부터 결과가 아닌, 규칙성을 찾는 것이 목표\n",
    "\n",
    "사람이 찾던 규칙을 기계가 찾아 주는 것\n"
   ]
  },
  {
   "cell_type": "code",
   "execution_count": null,
   "metadata": {},
   "outputs": [],
   "source": [
    "# ex) 1, 2, 3, 4, ?\n",
    "\n",
    "def MyAlgo(X):\n",
    "    Y = X\n",
    "    return Y\n",
    "\n",
    "while True:\n",
    "    X = int(input('입력:'))\n",
    "    Y = MyAlgo(X)\n",
    "    print(f'출력 : {Y}')"
   ]
  },
  {
   "cell_type": "code",
   "execution_count": null,
   "metadata": {},
   "outputs": [],
   "source": [
    "# 2, 4, 6, 8, ? \n",
    "\n",
    "def MyAlgo(X):\n",
    "    Y = 2 * X\n",
    "    return Y"
   ]
  },
  {
   "cell_type": "code",
   "execution_count": null,
   "metadata": {},
   "outputs": [],
   "source": [
    "# 3, 5, 7, 9, ? \n",
    "\n",
    "def MyAlgo(X):\n",
    "    Y = 2 * X +1\n",
    "    return Y"
   ]
  },
  {
   "cell_type": "code",
   "execution_count": null,
   "metadata": {},
   "outputs": [],
   "source": [
    "# 7, 10, 13, 16, ? \n",
    "\n",
    "def MyAlgo(X):\n",
    "    Y = 3*X + 4\n",
    "    return Y"
   ]
  },
  {
   "cell_type": "markdown",
   "metadata": {},
   "source": [
    "Y = w * X + b\n",
    "\n",
    "x : 입력값 (Feature)\n",
    "Y : 출력 값 (label)\n",
    "w : 가중치 (weight)\n",
    "b : 편향 (Bias)\n",
    "\n",
    "머신러닝은 위 수식을 찾아내는 것,  \n",
    "- X 가 주어졌을 때, Y를 만족하는 w와 b를 ㅊ찾아내는 것\n",
    "\n",
    "---"
   ]
  },
  {
   "cell_type": "markdown",
   "metadata": {},
   "source": [
    "### 머신 러닝 단계\n",
    "\n",
    "1. 문제정의\n",
    "#\n",
    "2. 데이터 수집\n",
    "    - 자체 데이터 수집\n",
    "    - 데이터 제공 사이트 (구글, 케글, 공공데이터포털, AI허브 등)\n",
    "    - 웹 크롤링\n",
    "#\n",
    "3. 데이터 전처리\n",
    "\n",
    "4. 알고리즘 / 모델 선택\n",
    "\n",
    "5. 학습\n",
    "\n",
    "6. 평가\n",
    "\n",
    "---\n"
   ]
  },
  {
   "cell_type": "markdown",
   "metadata": {},
   "source": [
    "### 2.1 머신 러닝의 유형\n",
    "1. 회귀 (Regression)\n",
    "    - 학습 데이터에 부합하는 출력 값을 찾아주는 함수를 찾아내는 방법\n",
    "    - ex) 사람의 몸무게를 기반으로 키 예측\n",
    "    - 평가 지표 : mse, rmse\n",
    "#\n",
    "2. 분류 (Classification)\n",
    "    - 정해진 카테고리 내에서 입력된 값이 어느 카테고리에 속하는지 찾아내는 방법\n",
    "    - ex) 개, 고양이 분류\n",
    "    - https://teachablemachine.withgoogle.com/\n",
    "#\n",
    "3. 군집화 (Clustering)\n",
    "     - 유사성이 높은 데이터들을 동일한 그룹으로 분류하고 서로 다른 군집들이 상이성을 가지도록 그룹화하는 방법\n",
    "     - ex) 소비 수준에 따른 고객군 군집화\n",
    "#\n",
    "4. 이상값 감지 (Anomaly Detection)\n",
    "    - 매우 적은 비율로 발생하는 비정상적인 데이터를 검출하는 방법\n",
    "    - ex) 금융 사기 감지\n",
    "\n",
    "---"
   ]
  },
  {
   "cell_type": "markdown",
   "metadata": {},
   "source": [
    "### 2.2 머신 러닝의 종류\n",
    "\n",
    "### 2.3 머신러닝 알고리즘 (방법) - 머신러닝을 구현하기 위한 알고리즘\n",
    "\n",
    "### 3.4 머신 러닝 패키지 & 라이브러리\n",
    "\n",
    "\n",
    "1. 넘파이(Numpy) - https://numpy.org/\n",
    "    - 파이썬의 대표적인 라이브러리로 수치해석 라이브러리\n",
    "    - 행렬이나 대규모 다차원 배열을 쉽게 처리 할 수 있도록 지원\n",
    "    - 선형대수에 필요한 다차원 배열 등 배열연산에 필요한 다양한 함수 제공\n",
    "#\n",
    "2. 판다스(Pandas) - pandas.pydata.org/\n",
    "    - 파이썬 데이터 처리를 위한 라이브러리\n",
    "    - NumPy는 행렬 기반의 데이터 처리에 특화되어 있는 반면 Pandas는 2차원 데이터 처리에 특화되어 있으며, NumPy보다 훨씬 편리하게 데이터를 처리할 수 있는 많은 기능 제공\n",
    "    - Matplotlib을 통한 시각화 기능 제공\n",
    "#\n",
    "3. 맷플롯립(Matplotlib) - https://matplotlib.org/\n",
    "    - 그래픽 기능을 지원하는 라이브러리\n",
    "    - Numpy, Pandas 등과 연계하여 데이터 시각화에 사용\n",
    "    - 시각화를 통한 빅데이터 분석에 활용\n",
    "#\n",
    "4. 사이킷런(Scikit-Learn) - https://scikit-learn.org/\n",
    "    - 파이썬으로 구현된 머신 러닝 오픈 소스 라이브러리\n",
    "    - 지도 / 비지도 학습, 모델 선택 및 평가, 데이터 변환 등 머신러닝에 필요한 대부분의 기능 제공\n",
    "    - 데이터 마이닝 기반의 머신러닝에서 인기가 좋음\n",
    "#\n",
    "5. 케라스(Keras) - https://keras.io/\n",
    "    - 딥러닝 모델을 간편하게 만들고 훈련시킬 수 있는 파이썬 딥러닝 프레임워크\n",
    "    - 백엔드 엔진으로 텐서라이브러리를 사용\n",
    "#\n",
    "6. 텐서플로(TensorFlow) - https://www.tensorflow.org/\n",
    "    - 구글에서 만든 딥러닝 오픈소스 패키지\n",
    "    - 데이터가 그래프 또는 일련의 처리 노드를 통해 움직이는 방법을 기술\n",
    "    - 그래프의 각 노드는 수학적 연산을 나타내며, 노드 간의 각 연결 또는 가장자리는 다차원 데이터 배열, 또는 텐서(tensor)를 나타냄\n",
    "    - 데이터 흐름 그래프(Data Flow Graph)를 사용하여 수치 연산을 해주는 라이브러리\n",
    "\n",
    "---"
   ]
  },
  {
   "cell_type": "markdown",
   "metadata": {},
   "source": [
    "# 실습 #1 - Classification of dog breeds\n",
    "\n",
    "### k-NN 알고리즘(지도학습)\n",
    "\n",
    "- 분류 문제의 가장 간단한 사례로 k-NN 알고리즘을 살펴보자.\n",
    "- 우리 주변에서 볼 수 있는 개의 품종 중에는 닥스훈트와 사모예드라는 종이 있는데, 두 종은 몸의 높이와 길이 비율이 서로 다르다.\n",
    "- 몸통의 길이와 높이 특징(feature)을 각각 $x1, x2$ 라고 두고 이 개들의 표본 집합에 대하여 $x1, x2$를 측정하면 아래 그림의 오른쪽과 같은 산포도 그래프를 얻을 수 있다.\n",
    "\n",
    "\n",
    "### 거리 기반 분류 분석 모델\n",
    "\n",
    "- k-NN 알고리즘은 새로운 데이터로부터 거리가 가까운 k개의 다른 데이터의 속성을 참고하여 k개의 데이터 중 가장 빈도 수가 높게 나온 데이터의 레이블로 분류하는 알고리즘이다.\n",
    "\n",
    "![img](./img/k1.png)\n",
    "\n",
    "- 새로운 정보 (초록)이 왔을때 일정거리를 측정해 더 많은 쪽에 속하는 쪽으로 분류\n",
    "\n",
    "### 거리 측정 방법\n",
    "\n",
    "- 유클리드 거리\n",
    "\n",
    "- 거리 측정 방식에는 여러 가지 방법들이 있겠지만 K-NN 알고리즘은 거리를 측정할 때 일반적으로 '유클리드 거리(Euclidean Distance)' 계산법을 사용한다. 2차원 평면에 서로 다른 두 점 A(x1, y1)와 B(x2, y2)가 있을 때 이 둘의 거리 d는 유클리드 거리 계산법에 의해 다음과 같이 나온다.\n",
    "\n",
    "![img](./img/k2.png)\n",
    "\n",
    "\n",
    "# k-means 알고리즘(비지도 학습)\n",
    "\n",
    "- 군집화(Clustring)란 소속 집단의 정보가 없고 모르는 상태에서 비슷한 집단으로 묶는 비지도 학습의 하나이다.\n",
    "- k-means 알고리즘은 원리가 단순하고 직관적이며 성능이 좋은 군집화 알고리즘이다.\n",
    "    - 사전에 군집의 개수 k값을 지정해야 하는 단점이 있다.\n",
    "\n",
    "![img](./img/k3.png)\n",
    "\n",
    "- k가 2인 경우 (b)에 표시된 것과 같이 6개의 점들 중에서 빨간색 동그라미로 표시된 임의의 두 점을 선택하는 것이 알고리즘의 시작이다.\n",
    "- 이 두 점과 가장 가까운 점을 그룹으로 묶을 경우 (c)와 같이 A그룹, B그룹으로 묶여진다. 이 두 그룹의 중심점을 구한 것이 (d) 그림이다.\n",
    "- 그림 (e)와 같이 + 로 표시된 A그룹의 중심점과 B 그룹의 중심점을 이용하여 모든 점과의 거리를 구한 후 다시 그룹을 만들어  A와 B그룹으로 만들도록 한다.\n",
    "- 그림 (f)는 이 과정을 (b) 단계에서 부터 다시 반복하여 이전의 군집 배정과 결과가 같거나 갱신이 거의 발생하지 않을 경우 알고리즘이 종료된다.\n",
    "- k에 따른 군집화 결과\n",
    "\n",
    "![img](./img/k4.png)"
   ]
  },
  {
   "cell_type": "markdown",
   "metadata": {},
   "source": [
    "---\n",
    "\n",
    "## 실습 - KNN - dog claasification\n",
    "\n",
    "개의 종류와 크기를 바탕으로 KNN 알고리즘 적용"
   ]
  },
  {
   "cell_type": "code",
   "execution_count": 7,
   "metadata": {},
   "outputs": [],
   "source": [
    "import numpy as np\n",
    "import matplotlib.pyplot as plt"
   ]
  },
  {
   "cell_type": "code",
   "execution_count": 8,
   "metadata": {},
   "outputs": [],
   "source": [
    "# 닥스훈트의 길이와 높이 데이터\n",
    "dach_length = [75, 77, 83, 81, 73, 99, 72, 83]\n",
    "dach_height = [24, 29, 19, 32, 21, 22, 19, 34]\n",
    "\n",
    "# 사모예드의 길이와 높이 데이터\n",
    "samo_length = [76, 78, 82, 88, 76, 83, 81, 89]\n",
    "samo_height = [55, 58, 53, 54, 61, 52, 57, 64]\n",
    "\n",
    "# 말티즈의 길이와 높이 데이터\n",
    "malti_length = [35, 39, 38, 41, 30, 57, 41, 35]\n",
    "malti_height = [23, 26, 19, 30, 21, 24, 28, 20]"
   ]
  },
  {
   "cell_type": "code",
   "execution_count": 14,
   "metadata": {},
   "outputs": [
    {
     "data": {
      "image/png": "[encoded data removed]",
      "text/plain": [
       "<Figure size 432x288 with 1 Axes>"
      ]
     },
     "metadata": {
      "needs_background": "light"
     },
     "output_type": "display_data"
    }
   ],
   "source": [
    "plt.scatter(dach_length, dach_height, c='red', label='Dachshund')\n",
    "plt.scatter(samo_length, samo_height, c='blue', marker='^', label='Samoyed')\n",
    "plt.scatter(malti_length, malti_height, c='green', label='maltese')\n",
    "\n",
    "plt.xlabel('Length')\n",
    "plt.ylabel('Height')\n",
    "plt.title('Dog size')\n",
    "plt.legend(loc='upper left')\n",
    "\n",
    "plt.show()"
   ]
  },
  {
   "cell_type": "code",
   "execution_count": 22,
   "metadata": {},
   "outputs": [
    {
     "data": {
      "image/png": "[encoded data removed]",
      "text/plain": [
       "<Figure size 432x288 with 1 Axes>"
      ]
     },
     "metadata": {
      "needs_background": "light"
     },
     "output_type": "display_data"
    }
   ],
   "source": [
    "# 새로운 데이터를 넣어서 시각화해 본다.\n",
    "#    - length= 79\n",
    "#    - height = 35\n",
    "\n",
    "newdata_length = [79]\n",
    "newdata_height = [35]\n",
    "\n",
    "plt.scatter(dach_length, dach_height, c='red', label='Dachshund')\n",
    "plt.scatter(samo_length, samo_height, c='blue', marker='^', label='Samoyed')\n",
    "plt.scatter(malti_length, malti_height, c='green', label='maltese')\n",
    "plt.scatter(newdata_length, newdata_height, c='black', marker='s', label='newdata')\n",
    "\n",
    "plt.xlabel('Length')\n",
    "plt.ylabel('Height')\n",
    "plt.title('Dog size')\n",
    "plt.legend(loc='upper left')\n",
    "\n",
    "plt.show()"
   ]
  },
  {
   "cell_type": "markdown",
   "metadata": {},
   "source": [
    "---\n",
    "### 1.3 KNN 분류기로 실행\n"
   ]
  },
  {
   "cell_type": "code",
   "execution_count": 24,
   "metadata": {},
   "outputs": [],
   "source": [
    "# 몸 길이와 몸 높이를 배열 데이터로 묶는다.\n",
    "\n",
    "# 닥스훈트는 0으로 레이블링\n",
    "d_data = np.column_stack((dach_length, dach_height))\n",
    "d_label = [0]*(len(d_data))\n",
    "\n",
    "#사모예드는 1으로 레이블링\n",
    "s_data = np.column_stack((samo_length, samo_height))\n",
    "s_label = [1]*(len(s_data))\n",
    "\n",
    "#말티즈는 2로 레이블링\n",
    "m_data = np.column_stack((malti_length, malti_height))\n",
    "m_label = [2]*(len(m_data))"
   ]
  },
  {
   "cell_type": "code",
   "execution_count": 25,
   "metadata": {},
   "outputs": [
    {
     "data": {
      "text/plain": [
       "array([[75, 24],\n",
       "       [77, 29],\n",
       "       [83, 19],\n",
       "       [81, 32],\n",
       "       [73, 21],\n",
       "       [99, 22],\n",
       "       [72, 19],\n",
       "       [83, 34]])"
      ]
     },
     "execution_count": 25,
     "metadata": {},
     "output_type": "execute_result"
    }
   ],
   "source": [
    "d_data"
   ]
  },
  {
   "cell_type": "code",
   "execution_count": 27,
   "metadata": {},
   "outputs": [],
   "source": [
    "# 모든 데이터를 연결하여 하나의 배열로 만든다.\n",
    "\n",
    "dogs = np.concatenate((d_data, s_data, m_data))\n",
    "labels = np.concatenate((d_label, s_label, m_label))"
   ]
  },
  {
   "cell_type": "code",
   "execution_count": 30,
   "metadata": {},
   "outputs": [],
   "source": [
    "# 클래스 지정\n",
    "\n",
    "dog_classes = {0:'닥스훈트', 1:'사모예드', 2:'말티즈'}"
   ]
  },
  {
   "cell_type": "markdown",
   "metadata": {},
   "source": [
    "### KNN 머신러닝"
   ]
  },
  {
   "cell_type": "code",
   "execution_count": 34,
   "metadata": {},
   "outputs": [
    {
     "data": {
      "text/plain": [
       "array([[8, 0, 0],\n",
       "       [0, 8, 0],\n",
       "       [0, 0, 8]], dtype=int64)"
      ]
     },
     "execution_count": 34,
     "metadata": {},
     "output_type": "execute_result"
    }
   ],
   "source": [
    "# k-NN 으로 분류\n",
    "from sklearn.neighbors import KNeighborsClassifier\n",
    "\n",
    "# 학습시키기 (n_neighbors = k 값)\n",
    "knn = KNeighborsClassifier(n_neighbors = 5)\n",
    "knn.fit(dogs, labels)\n",
    "pred = knn.predict(dogs)\n",
    "\n",
    "# 혼동행렬 만들기\n",
    "from sklearn.metrics import confusion_matrix\n",
    "confusion_matrix(labels, pred)"
   ]
  },
  {
   "cell_type": "markdown",
   "metadata": {},
   "source": [
    "---\n",
    "\n",
    "### 2. 다음과 같은 개의 길이, 높이 데이터 A, B, C, D에 대하여 각각 n_neighbor를 3, 5, 7로 분류하고 분류 결과를 출력\n",
    "\n",
    "- A : 길이 58, 높이 30\n",
    "- B : 길이 80, 높이 26\n",
    "- C : 길이 80, 높이 41\n",
    "- D : 길이 75, 높이 55"
   ]
  },
  {
   "cell_type": "code",
   "execution_count": 49,
   "metadata": {},
   "outputs": [],
   "source": [
    "# 새로우 데이터 생성\n",
    "A = [[58, 30]]\n",
    "B = [[80, 26]]\n",
    "C = [[80, 41]]\n",
    "D = [[75, 55]]"
   ]
  },
  {
   "cell_type": "code",
   "execution_count": 93,
   "metadata": {},
   "outputs": [],
   "source": [
    "# k 값에 따른 변화를 보기위해 def 만들기\n",
    "\n",
    "def calssifier_result(data):\n",
    "    for k in [3, 5, 7]:\n",
    "        knn = KNeighborsClassifier(n_neighbors = k)\n",
    "        knn.fit(dogs, labels)\n",
    "        # 예측은 새로운 데이터로 함\n",
    "        pred = knn.predict(data)\n",
    "        print(data, 'k = ', k, '일때,' , pred , ':' ,dog_classes[pred[0]])"
   ]
  },
  {
   "cell_type": "code",
   "execution_count": 94,
   "metadata": {},
   "outputs": [
    {
     "name": "stdout",
     "output_type": "stream",
     "text": [
      "[[58, 30]] k =  3 일때, [2] : 말티즈\n",
      "[[58, 30]] k =  5 일때, [2] : 말티즈\n",
      "[[58, 30]] k =  7 일때, [0] : 닥스훈트\n",
      "\n",
      "[[80, 26]] k =  3 일때, [0] : 닥스훈트\n",
      "[[80, 26]] k =  5 일때, [0] : 닥스훈트\n",
      "[[80, 26]] k =  7 일때, [0] : 닥스훈트\n",
      "\n",
      "[[80, 41]] k =  3 일때, [0] : 닥스훈트\n",
      "[[80, 41]] k =  5 일때, [0] : 닥스훈트\n",
      "[[80, 41]] k =  7 일때, [1] : 사모예드\n",
      "\n",
      "[[75, 55]] k =  3 일때, [1] : 사모예드\n",
      "[[75, 55]] k =  5 일때, [1] : 사모예드\n",
      "[[75, 55]] k =  7 일때, [1] : 사모예드\n",
      "\n"
     ]
    }
   ],
   "source": [
    "for i in [A, B, C, D]:\n",
    "    calssifier_result(i)\n",
    "    print()"
   ]
  },
  {
   "cell_type": "markdown",
   "metadata": {},
   "source": [
    "---\n",
    "\n",
    "### 3. 산포도 그리기"
   ]
  },
  {
   "cell_type": "code",
   "execution_count": 76,
   "metadata": {},
   "outputs": [
    {
     "data": {
      "image/png": "[encoded data removed]",
      "text/plain": [
       "<Figure size 432x288 with 1 Axes>"
      ]
     },
     "metadata": {
      "needs_background": "light"
     },
     "output_type": "display_data"
    }
   ],
   "source": [
    "plt.scatter(dach_length, dach_height, c='red', label='Dachshund')\n",
    "plt.scatter(samo_length, samo_height, c='blue', marker='^', label='Samoyed')\n",
    "plt.scatter(malti_length, malti_height, c='green', label='maltese')\n",
    "\n",
    "# 새로운 데이터 (xy 축 바꾸려고 2차원 으로 표기)\n",
    "plt.scatter(A[0][0], A[0][1], s=200, c='magenta', label='A')\n",
    "plt.scatter(B[0][0], B[0][1], s=200, c='gray', label='B')\n",
    "plt.scatter(C[0][0], C[0][1], s=200, c='cyan', label='C')\n",
    "plt.scatter(D[0][0], D[0][1], s=200, c='black', label='D')\n",
    "\n",
    "plt.xlabel('Length')\n",
    "plt.ylabel('Height')\n",
    "plt.title('Dog size')\n",
    "plt.legend(loc='upper left')\n",
    "\n",
    "plt.show()"
   ]
  },
  {
   "cell_type": "markdown",
   "metadata": {},
   "source": [
    "---\n",
    "\n",
    "# 비지도학습 K-means clusturing"
   ]
  },
  {
   "cell_type": "code",
   "execution_count": 109,
   "metadata": {},
   "outputs": [
    {
     "data": {
      "text/plain": [
       "array([[75, 24],\n",
       "       [77, 29],\n",
       "       [83, 19],\n",
       "       [81, 32],\n",
       "       [73, 21],\n",
       "       [99, 22],\n",
       "       [72, 19],\n",
       "       [83, 34],\n",
       "       [76, 55],\n",
       "       [78, 58],\n",
       "       [82, 53],\n",
       "       [88, 54],\n",
       "       [76, 61],\n",
       "       [83, 52],\n",
       "       [81, 57],\n",
       "       [89, 64],\n",
       "       [35, 23],\n",
       "       [39, 26],\n",
       "       [38, 19],\n",
       "       [41, 30],\n",
       "       [30, 21],\n",
       "       [57, 24],\n",
       "       [41, 28],\n",
       "       [35, 20]])"
      ]
     },
     "execution_count": 109,
     "metadata": {},
     "output_type": "execute_result"
    }
   ],
   "source": [
    "dogs"
   ]
  },
  {
   "cell_type": "code",
   "execution_count": 117,
   "metadata": {},
   "outputs": [
    {
     "data": {
      "text/plain": [
       "array([1, 1, 1, 1, 1, 1, 1, 1, 1, 1, 1, 1, 1, 1, 1, 1, 0, 0, 0, 0, 0, 0,\n",
       "       0, 0])"
      ]
     },
     "execution_count": 117,
     "metadata": {},
     "output_type": "execute_result"
    }
   ],
   "source": [
    "# 라벨 (개이름) 이 없이 분류\n",
    "from sklearn import cluster\n",
    "model = cluster.KMeans(n_clusters=2)\n",
    "model.fit(dogs)\n",
    "labels = model.predict(dogs)\n",
    "\n",
    "labels\n",
    "\n",
    "# 아래 분류가 어떤 종인지 알순 없으나, 2분류가 되었다."
   ]
  },
  {
   "cell_type": "code",
   "execution_count": 116,
   "metadata": {},
   "outputs": [
    {
     "data": {
      "text/plain": [
       "<matplotlib.collections.PathCollection at 0x1e6daa37130>"
      ]
     },
     "execution_count": 116,
     "metadata": {},
     "output_type": "execute_result"
    },
    {
     "data": {
      "image/png": "[encoded data removed]",
      "text/plain": [
       "<Figure size 432x288 with 1 Axes>"
      ]
     },
     "metadata": {
      "needs_background": "light"
     },
     "output_type": "display_data"
    }
   ],
   "source": [
    "from sklearn import cluster\n",
    "model = cluster.KMeans(n_clusters=2)\n",
    "model.fit(dogs)\n",
    "labels = model.predict(dogs)\n",
    "colors = np.array(['red', 'green', 'blue', 'magenta'])\n",
    "plt.scatter(dogs[:,0], dogs[:,1], color=colors[labels])"
   ]
  },
  {
   "cell_type": "markdown",
   "metadata": {},
   "source": [
    "---\n",
    "\n",
    "# 실습 2 : Linear regression using car data (선형회귀)\n",
    "\n",
    "## 머신러닝 유형\n",
    "\n",
    "### 회귀 (Regression)\n",
    "- 학습 데이터에 부합하는 출력 값을 찾아주는 함수를 찾아내는 방법\n",
    "- (e.g., 사람의 몸무게를 기반으로 키 예측)\n",
    "\n",
    "---\n",
    "\n",
    "## 알고리즘 \n",
    "\n",
    "**선형회귀 (Linear Regression)**\n",
    "- 종속 변수 y와 한 개 이상의 독립 변수 (또는 설명 변수) X와의 선형 상관 관계를 모델링하는 회귀분석 기법\n",
    "#\n",
    "**단순 선형 회귀**\n",
    "- 1개의 독립 변수(X)와 종속 변수(Y)의 선형 관계 모델링\n",
    "$$\n",
    "Y = wX + b\n",
    "$$\n",
    "#\n",
    "**다중 선형 회귀**\n",
    "\n",
    "- 다수의 독립 변수(X1, X2, ... Xn)와 종속 변수(Y)의 선형 관계 모델링\n",
    "$$\n",
    "Y = w_1X_1 + w_2X_2 + w_3X_3 + ... w_nXn + b\n",
    "$$\n",
    "<img src=\"./img/l1.png\" width=50% height=50%>\n",
    "#\n",
    "\n",
    "**가설 초기화**\n",
    "- X와 Y의 선형 관계를 유추하기 위해 초기 가설(Hypothesis)을 수학적인 식으로 표현\n",
    "$$\n",
    "H(x) = wX + b\n",
    "$$\n",
    "- w와 b의 값에 의해 다양한 선이 그려질 수 있음\n",
    "- 오차를 최소화하는 방향, 즉 최적화된 수식을 위한 w와 b를 찾기 위해 학습\n",
    "#\n",
    "\n",
    "## **비용 (Cost)**\n",
    "- 가설로부터 얻은 예측 값과 실제 값 사이의 차를 비용(Cost), 오차(Error) 또는 손실(Loss)이라 함\n",
    "- 즉, 가설이 얼마나 잘못되었는지 평가하는 척도\n",
    "- 비용을 계산하는 함수를 비용 함수(Cost Function)이라 함\n",
    "# \n",
    "\n",
    "**평균 절대값 오차(Mean Absolute Error : mae)**\n",
    "\n",
    "$$\n",
    "{1 \\over n} \\sum ^n _ {i=1} (|y_i - \\hat y_i|)\n",
    "$$\n",
    "# \n",
    "\n",
    "**평균 제곱 오차(Mean Squared Error, MSE) : 머신러닝에서 가장 흔히 사용되는 오차 척도**\n",
    "\n",
    "- 사이킷런의 mean-squared-error() 함수 사용\n",
    "\n",
    "$$\n",
    "{1 \\over n} \\sum ^n _ {i=1} (y_i - \\hat y_i)^2\n",
    "$$\n",
    "#\n",
    "\n",
    "**평균 제곱근 오차(Root Mean Squared Error)**\n",
    "\n",
    "$$\n",
    "\\sqrt {\\sum ^n _ {i=1} {(\\hat y_i - y_i)^2 \\over n}}\n",
    "$$\n",
    "\n",
    "위 오차를 최소화하는 것이 목표임\n",
    "\n",
    "---\n"
   ]
  },
  {
   "cell_type": "markdown",
   "metadata": {},
   "source": [
    "## 최적화 알고리즘(Optimizer)\n",
    "\n",
    "- 선형 관계를 가장 잘 모델링하는 가중치 w 와 절편 b를 찾는 것\n",
    "- 위 수식에서 가설의 기울기는 w에 의해 크게 좌우됨(기하급수적)\n",
    "- 즉, 오차와 w의 관계를 아래와 같이 표현할 수 있음\n",
    "\n",
    "<img src=\"./img/o1.png\" width=50% height=50%>\n",
    "\n",
    "- 최적의 w 값은 w와 cost 그래프에서 가장 아래 부분임\n",
    "\n",
    "\n",
    "\n",
    "**경사하강법**\n",
    "\n",
    "<img src=\"./img/o2.png\" width=50% height=50%>\n",
    "\n",
    "---"
   ]
  },
  {
   "cell_type": "markdown",
   "metadata": {},
   "source": [
    "# 실습\n",
    "\n",
    "1. 다음은 P 자동차 회사의 차종과 마력, 그리고 평균 연비(단위 : km/l)를 나타내는 표이다.\n",
    "\n",
    "||A|B|C|D|E|F|G|\n",
    "|-|-|-|-|-|-|-|-|\n",
    "|마력|130|250|190|300|210|220|170|\n",
    "|연비|16.3|10.2|11.1|7.1|12.1|13.2|14.2|"
   ]
  },
  {
   "cell_type": "code",
   "execution_count": 119,
   "metadata": {},
   "outputs": [
    {
     "data": {
      "text/html": [
       "<div>\n",
       "<style scoped>\n",
       "    .dataframe tbody tr th:only-of-type {\n",
       "        vertical-align: middle;\n",
       "    }\n",
       "\n",
       "    .dataframe tbody tr th {\n",
       "        vertical-align: top;\n",
       "    }\n",
       "\n",
       "    .dataframe thead th {\n",
       "        text-align: right;\n",
       "    }\n",
       "</style>\n",
       "<table border=\"1\" class=\"dataframe\">\n",
       "  <thead>\n",
       "    <tr style=\"text-align: right;\">\n",
       "      <th></th>\n",
       "      <th>horse power</th>\n",
       "      <th>efficiency</th>\n",
       "    </tr>\n",
       "    <tr>\n",
       "      <th>name</th>\n",
       "      <th></th>\n",
       "      <th></th>\n",
       "    </tr>\n",
       "  </thead>\n",
       "  <tbody>\n",
       "    <tr>\n",
       "      <th>A</th>\n",
       "      <td>130</td>\n",
       "      <td>16.3</td>\n",
       "    </tr>\n",
       "    <tr>\n",
       "      <th>B</th>\n",
       "      <td>250</td>\n",
       "      <td>10.2</td>\n",
       "    </tr>\n",
       "    <tr>\n",
       "      <th>C</th>\n",
       "      <td>190</td>\n",
       "      <td>11.1</td>\n",
       "    </tr>\n",
       "    <tr>\n",
       "      <th>D</th>\n",
       "      <td>300</td>\n",
       "      <td>7.1</td>\n",
       "    </tr>\n",
       "    <tr>\n",
       "      <th>E</th>\n",
       "      <td>210</td>\n",
       "      <td>12.1</td>\n",
       "    </tr>\n",
       "    <tr>\n",
       "      <th>F</th>\n",
       "      <td>220</td>\n",
       "      <td>13.2</td>\n",
       "    </tr>\n",
       "    <tr>\n",
       "      <th>G</th>\n",
       "      <td>170</td>\n",
       "      <td>14.2</td>\n",
       "    </tr>\n",
       "  </tbody>\n",
       "</table>\n",
       "</div>"
      ],
      "text/plain": [
       "      horse power  efficiency\n",
       "name                         \n",
       "A             130        16.3\n",
       "B             250        10.2\n",
       "C             190        11.1\n",
       "D             300         7.1\n",
       "E             210        12.1\n",
       "F             220        13.2\n",
       "G             170        14.2"
      ]
     },
     "execution_count": 119,
     "metadata": {},
     "output_type": "execute_result"
    }
   ],
   "source": [
    "import pandas as pd\n",
    "\n",
    "df = pd.DataFrame({\n",
    "    'name': ['A', 'B', 'C', 'D', 'E', 'F', 'G'],\n",
    "    'horse power' : [130, 250, 190, 300, 210, 220, 170],\n",
    "    'efficiency' : [16.3, 10.2, 11.1, 7.1, 12.1, 13.2, 14.2]\n",
    "})\n",
    "vehicle_df = df.set_index('name')\n",
    "vehicle_df"
   ]
  },
  {
   "cell_type": "code",
   "execution_count": 122,
   "metadata": {},
   "outputs": [
    {
     "name": "stdout",
     "output_type": "stream",
     "text": [
      "계수 :  [[-0.05027473]]\n",
      "절편 :  [22.58626374]\n",
      "예측 점수 :  0.8706727649378526\n"
     ]
    }
   ],
   "source": [
    "from sklearn.linear_model import LinearRegression\n",
    "\n",
    "# 독립변수\n",
    "X = vehicle_df[['horse power']]\n",
    "# 종속변수\n",
    "y = vehicle_df[['efficiency']]\n",
    "\n",
    "# 모델 생성\n",
    "model1 = LinearRegression()\n",
    "# 학습\n",
    "model1.fit(X, y)\n",
    "\n",
    "print(\"계수 : \", model1.coef_)\n",
    "print(\"절편 : \", model1.intercept_)\n",
    "print(\"예측 점수 : \", model1.score(X, y))"
   ]
  },
  {
   "cell_type": "markdown",
   "metadata": {},
   "source": [
    "**P 자동차 회사의 마력과 연비 사이에는 어떤 상관 관계가 있을까? 선형 회귀 분석을 통해서 선형 회귀 모델의 절편과 계수를 구하라. 마지막으로 이 선형 회귀 모델이 입력 마력 값에 대해 연비를 예측하는 데 얼마나 적합한지 예측 점수를 출력해 보자.**\n",
    "\n",
    "- coef_ : 현 선형회귀 모델의 가중치값을 출력\n",
    "- intercept_ : 현 선형회귀 모델의 편향값을 출력\n",
    "- score : 해당 X,y값에 대한 정확도를 출력"
   ]
  },
  {
   "cell_type": "code",
   "execution_count": 126,
   "metadata": {},
   "outputs": [
    {
     "name": "stderr",
     "output_type": "stream",
     "text": [
      "C:\\Users\\JAY\\anaconda3\\envs\\webai\\lib\\site-packages\\sklearn\\base.py:450: UserWarning: X does not have valid feature names, but LinearRegression was fitted with feature names\n",
      "  warnings.warn(\n"
     ]
    },
    {
     "data": {
      "text/plain": [
       "array([[9.01208791]])"
      ]
     },
     "execution_count": 126,
     "metadata": {},
     "output_type": "execute_result"
    }
   ],
   "source": [
    "# 마력 대비 연비 예측\n",
    "\n",
    "# 마력이 270일때, 예상 연비는 ?\n",
    "model1.predict([[270]])"
   ]
  },
  {
   "cell_type": "code",
   "execution_count": 130,
   "metadata": {},
   "outputs": [
    {
     "name": "stdout",
     "output_type": "stream",
     "text": [
      "[[-13.57417582]]\n",
      "[[9.01208791]]\n"
     ]
    }
   ],
   "source": [
    "# 직접 계산 해보기 (단순 선형 회귀)\n",
    "\n",
    "# y = w X + b\n",
    "\n",
    "# 마력 * 계수 + 절편(기울기)\n",
    "\n",
    "print(270 * model1.coef_)\n",
    "\n",
    "print(270 * model1.coef_ + model1.intercept_)"
   ]
  },
  {
   "cell_type": "markdown",
   "metadata": {},
   "source": [
    "---\n",
    "\n",
    "2. 자동차의 연비에 영향을 미치는 요소는 마력뿐만 아니라 총중량도 중요한 요소가 될 것이가. 다음은 P 자동차 회사의 차종과 마력, 총중량(단위 :kg)을 추가한 표이다.\n",
    "\n",
    "||A|B|C|D|E|F|G|\n",
    "|-|-|-|-|-|-|-|-|\n",
    "|마력|130|250|190|300|210|220|170|\n",
    "|총중량|1900|2600|2200|2900|2400|2300|2100|\n",
    "|연비|16.3|10.2|11.1|7.1|12.1|13.2|14.2|"
   ]
  },
  {
   "cell_type": "code",
   "execution_count": 131,
   "metadata": {},
   "outputs": [
    {
     "data": {
      "text/html": [
       "<div>\n",
       "<style scoped>\n",
       "    .dataframe tbody tr th:only-of-type {\n",
       "        vertical-align: middle;\n",
       "    }\n",
       "\n",
       "    .dataframe tbody tr th {\n",
       "        vertical-align: top;\n",
       "    }\n",
       "\n",
       "    .dataframe thead th {\n",
       "        text-align: right;\n",
       "    }\n",
       "</style>\n",
       "<table border=\"1\" class=\"dataframe\">\n",
       "  <thead>\n",
       "    <tr style=\"text-align: right;\">\n",
       "      <th></th>\n",
       "      <th>horse power</th>\n",
       "      <th>weight</th>\n",
       "      <th>efficiency</th>\n",
       "    </tr>\n",
       "    <tr>\n",
       "      <th>name</th>\n",
       "      <th></th>\n",
       "      <th></th>\n",
       "      <th></th>\n",
       "    </tr>\n",
       "  </thead>\n",
       "  <tbody>\n",
       "    <tr>\n",
       "      <th>A</th>\n",
       "      <td>130</td>\n",
       "      <td>1900</td>\n",
       "      <td>16.3</td>\n",
       "    </tr>\n",
       "    <tr>\n",
       "      <th>B</th>\n",
       "      <td>250</td>\n",
       "      <td>2600</td>\n",
       "      <td>10.2</td>\n",
       "    </tr>\n",
       "    <tr>\n",
       "      <th>C</th>\n",
       "      <td>190</td>\n",
       "      <td>2200</td>\n",
       "      <td>11.1</td>\n",
       "    </tr>\n",
       "    <tr>\n",
       "      <th>D</th>\n",
       "      <td>300</td>\n",
       "      <td>2900</td>\n",
       "      <td>7.1</td>\n",
       "    </tr>\n",
       "    <tr>\n",
       "      <th>E</th>\n",
       "      <td>210</td>\n",
       "      <td>2400</td>\n",
       "      <td>12.1</td>\n",
       "    </tr>\n",
       "    <tr>\n",
       "      <th>F</th>\n",
       "      <td>220</td>\n",
       "      <td>2300</td>\n",
       "      <td>13.2</td>\n",
       "    </tr>\n",
       "    <tr>\n",
       "      <th>G</th>\n",
       "      <td>170</td>\n",
       "      <td>2100</td>\n",
       "      <td>14.2</td>\n",
       "    </tr>\n",
       "  </tbody>\n",
       "</table>\n",
       "</div>"
      ],
      "text/plain": [
       "      horse power  weight  efficiency\n",
       "name                                 \n",
       "A             130    1900        16.3\n",
       "B             250    2600        10.2\n",
       "C             190    2200        11.1\n",
       "D             300    2900         7.1\n",
       "E             210    2400        12.1\n",
       "F             220    2300        13.2\n",
       "G             170    2100        14.2"
      ]
     },
     "execution_count": 131,
     "metadata": {},
     "output_type": "execute_result"
    }
   ],
   "source": [
    "import pandas as pd\n",
    "\n",
    "df = pd.DataFrame({\n",
    "    'name': ['A', 'B', 'C', 'D', 'E', 'F', 'G'],\n",
    "    'horse power' : [130, 250, 190, 300, 210, 220, 170],\n",
    "    'weight' : [1900, 2600, 2200, 2900, 2400, 2300, 2100],\n",
    "    'efficiency' : [16.3, 10.2, 11.1, 7.1, 12.1, 13.2, 14.2]\n",
    "})\n",
    "vehicle_df = df.set_index('name')\n",
    "vehicle_df"
   ]
  },
  {
   "cell_type": "markdown",
   "metadata": {},
   "source": [
    "위의 자료를 바탕으로 적절한 선형 회귀 모델을 구현해 보자. 이 모델의 절편, 예측 모델의 점수를 출력하라.\n"
   ]
  },
  {
   "cell_type": "code",
   "execution_count": 132,
   "metadata": {},
   "outputs": [
    {
     "name": "stdout",
     "output_type": "stream",
     "text": [
      "계수 :  [[-0.00689189 -0.00731081]]\n",
      "절편 :  [30.60405405]\n",
      "예측 점수 :  0.8871254041192392\n"
     ]
    }
   ],
   "source": [
    "from sklearn.linear_model import LinearRegression\n",
    "\n",
    "# 독립변수\n",
    "X = vehicle_df[['horse power', 'weight']]\n",
    "# 종속변수\n",
    "y = vehicle_df[['efficiency']]\n",
    "\n",
    "# 모델 생성\n",
    "model2 = LinearRegression()\n",
    "# 학습\n",
    "model2.fit(X, y)\n",
    "\n",
    "print(\"계수 : \", model2.coef_)\n",
    "print(\"절편 : \", model2.intercept_)\n",
    "print(\"예측 점수 : \", model2.score(X, y))"
   ]
  },
  {
   "cell_type": "code",
   "execution_count": 135,
   "metadata": {},
   "outputs": [
    {
     "name": "stderr",
     "output_type": "stream",
     "text": [
      "C:\\Users\\JAY\\anaconda3\\envs\\webai\\lib\\site-packages\\sklearn\\base.py:450: UserWarning: X does not have valid feature names, but LinearRegression was fitted with feature names\n",
      "  warnings.warn(\n"
     ]
    },
    {
     "data": {
      "text/plain": [
       "array([[10.46621622]])"
      ]
     },
     "execution_count": 135,
     "metadata": {},
     "output_type": "execute_result"
    }
   ],
   "source": [
    "# 마력이 270이고, 중량 2500인 차의 예상연비는 ?\n",
    "model2.predict([[270, 2500]])"
   ]
  },
  {
   "cell_type": "code",
   "execution_count": 143,
   "metadata": {},
   "outputs": [
    {
     "name": "stdout",
     "output_type": "stream",
     "text": [
      "-1.8608108108108257\n",
      "-18.277027027027014\n",
      "[10.46621622]\n"
     ]
    }
   ],
   "source": [
    "# 직접 계산 해보기 (단순 선형 회귀)\n",
    "\n",
    "# y = w X + b\n",
    "\n",
    "# 마력 * 계수 + 절편(기울기)\n",
    "\n",
    "print(270 * model2.coef_[0][0])\n",
    "\n",
    "print(2500 * model2.coef_[0][1])\n",
    "\n",
    "print(270 * model2.coef_[0][0] + 2500 * model2.coef_[0][1] + model2.intercept_)"
   ]
  },
  {
   "cell_type": "code",
   "execution_count": 138,
   "metadata": {},
   "outputs": [
    {
     "data": {
      "text/plain": [
       "<AxesSubplot:>"
      ]
     },
     "execution_count": 138,
     "metadata": {},
     "output_type": "execute_result"
    },
    {
     "data": {
      "image/png": "[encoded data removed]",
      "text/plain": [
       "<Figure size 720x720 with 2 Axes>"
      ]
     },
     "metadata": {},
     "output_type": "display_data"
    }
   ],
   "source": [
    "# 마력과 총중량, 연비 사이의 상관관계를 seaborn의 heatmap으로 시각해 보자.\n",
    "\n",
    "import seaborn as sns\n",
    "\n",
    "sns.set(rc = {'figure.figsize':(10, 10)})\n",
    "correlation_matrix = vehicle_df.corr()\n",
    "sns.heatmap(data = correlation_matrix, annot=True)"
   ]
  },
  {
   "cell_type": "markdown",
   "metadata": {},
   "source": [
    "- 마력이 높을 수록 연비가 안좋다. (음의 상관관계)\n",
    "- 중량이 높을 수록 연비가 안좋다. (음의 상관관계)"
   ]
  },
  {
   "cell_type": "markdown",
   "metadata": {},
   "source": [
    "---\n",
    "# 실습 3 : used car price prediction\n",
    "\n",
    "https://www.kaggle.com/datasets/avikasliwal/used-cars-price-prediction\n",
    "\n",
    "---\n",
    "\n",
    "**주어진 데이터를 분석하여 중고차의 가격(Price)을 예측하는 문제**\n",
    "\n",
    "e.g., 2015년식 주행거리 41000인 Hyundai Creta 디젤 차량의 가격은 얼마일까?\n",
    "\n",
    "---\n",
    "### 컬럼 정보\n",
    "\n",
    "Unnamed: 0 : csv 파일에 존재하던 index  \n",
    "Location : 판매된 차량의 지역  \n",
    "Kilometers_Driven : 주행거리  \n",
    "Transmission : 변속기  \n",
    "Mileage : 연비  \n",
    "Power : 엔진 출력(마력)  \n",
    "New_Price : 신차 가격  \n",
    "Name : 판매 차량의 브랜드와 모델  \n",
    "Year : 연식  \n",
    "Fuel_Type : 연료타입  \n",
    "Owner_Type : 차량 소유자 유형  \n",
    "Engine : 차량 CC  \n",
    "Seats : 좌석 수  \n",
    "Price : 판매 가격\n",
    "\n",
    "---"
   ]
  },
  {
   "cell_type": "markdown",
   "metadata": {},
   "source": [
    "# 실습\n",
    "---"
   ]
  },
  {
   "cell_type": "code",
   "execution_count": 1,
   "metadata": {},
   "outputs": [],
   "source": [
    "import pandas as pd\n",
    "import numpy as np\n",
    "import matplotlib.pyplot as plt\n",
    "from sklearn.model_selection import train_test_split\n",
    "from sklearn.linear_model import LinearRegression\n",
    "from sklearn.metrics import mean_squared_error"
   ]
  },
  {
   "cell_type": "code",
   "execution_count": 2,
   "metadata": {},
   "outputs": [
    {
     "data": {
      "text/html": [
       "<div>\n",
       "<style scoped>\n",
       "    .dataframe tbody tr th:only-of-type {\n",
       "        vertical-align: middle;\n",
       "    }\n",
       "\n",
       "    .dataframe tbody tr th {\n",
       "        vertical-align: top;\n",
       "    }\n",
       "\n",
       "    .dataframe thead th {\n",
       "        text-align: right;\n",
       "    }\n",
       "</style>\n",
       "<table border=\"1\" class=\"dataframe\">\n",
       "  <thead>\n",
       "    <tr style=\"text-align: right;\">\n",
       "      <th></th>\n",
       "      <th>Unnamed: 0</th>\n",
       "      <th>Name</th>\n",
       "      <th>Location</th>\n",
       "      <th>Year</th>\n",
       "      <th>Kilometers_Driven</th>\n",
       "      <th>Fuel_Type</th>\n",
       "      <th>Transmission</th>\n",
       "      <th>Owner_Type</th>\n",
       "      <th>Mileage</th>\n",
       "      <th>Engine</th>\n",
       "      <th>Power</th>\n",
       "      <th>Seats</th>\n",
       "      <th>New_Price</th>\n",
       "      <th>Price</th>\n",
       "    </tr>\n",
       "  </thead>\n",
       "  <tbody>\n",
       "    <tr>\n",
       "      <th>0</th>\n",
       "      <td>0</td>\n",
       "      <td>Maruti Wagon R LXI CNG</td>\n",
       "      <td>Mumbai</td>\n",
       "      <td>2010</td>\n",
       "      <td>72000</td>\n",
       "      <td>CNG</td>\n",
       "      <td>Manual</td>\n",
       "      <td>First</td>\n",
       "      <td>26.6 km/kg</td>\n",
       "      <td>998 CC</td>\n",
       "      <td>58.16 bhp</td>\n",
       "      <td>5.0</td>\n",
       "      <td>NaN</td>\n",
       "      <td>1.75</td>\n",
       "    </tr>\n",
       "    <tr>\n",
       "      <th>1</th>\n",
       "      <td>1</td>\n",
       "      <td>Hyundai Creta 1.6 CRDi SX Option</td>\n",
       "      <td>Pune</td>\n",
       "      <td>2015</td>\n",
       "      <td>41000</td>\n",
       "      <td>Diesel</td>\n",
       "      <td>Manual</td>\n",
       "      <td>First</td>\n",
       "      <td>19.67 kmpl</td>\n",
       "      <td>1582 CC</td>\n",
       "      <td>126.2 bhp</td>\n",
       "      <td>5.0</td>\n",
       "      <td>NaN</td>\n",
       "      <td>12.50</td>\n",
       "    </tr>\n",
       "    <tr>\n",
       "      <th>2</th>\n",
       "      <td>2</td>\n",
       "      <td>Honda Jazz V</td>\n",
       "      <td>Chennai</td>\n",
       "      <td>2011</td>\n",
       "      <td>46000</td>\n",
       "      <td>Petrol</td>\n",
       "      <td>Manual</td>\n",
       "      <td>First</td>\n",
       "      <td>18.2 kmpl</td>\n",
       "      <td>1199 CC</td>\n",
       "      <td>88.7 bhp</td>\n",
       "      <td>5.0</td>\n",
       "      <td>8.61 Lakh</td>\n",
       "      <td>4.50</td>\n",
       "    </tr>\n",
       "    <tr>\n",
       "      <th>3</th>\n",
       "      <td>3</td>\n",
       "      <td>Maruti Ertiga VDI</td>\n",
       "      <td>Chennai</td>\n",
       "      <td>2012</td>\n",
       "      <td>87000</td>\n",
       "      <td>Diesel</td>\n",
       "      <td>Manual</td>\n",
       "      <td>First</td>\n",
       "      <td>20.77 kmpl</td>\n",
       "      <td>1248 CC</td>\n",
       "      <td>88.76 bhp</td>\n",
       "      <td>7.0</td>\n",
       "      <td>NaN</td>\n",
       "      <td>6.00</td>\n",
       "    </tr>\n",
       "    <tr>\n",
       "      <th>4</th>\n",
       "      <td>4</td>\n",
       "      <td>Audi A4 New 2.0 TDI Multitronic</td>\n",
       "      <td>Coimbatore</td>\n",
       "      <td>2013</td>\n",
       "      <td>40670</td>\n",
       "      <td>Diesel</td>\n",
       "      <td>Automatic</td>\n",
       "      <td>Second</td>\n",
       "      <td>15.2 kmpl</td>\n",
       "      <td>1968 CC</td>\n",
       "      <td>140.8 bhp</td>\n",
       "      <td>5.0</td>\n",
       "      <td>NaN</td>\n",
       "      <td>17.74</td>\n",
       "    </tr>\n",
       "  </tbody>\n",
       "</table>\n",
       "</div>"
      ],
      "text/plain": [
       "   Unnamed: 0                              Name    Location  Year  \\\n",
       "0           0            Maruti Wagon R LXI CNG      Mumbai  2010   \n",
       "1           1  Hyundai Creta 1.6 CRDi SX Option        Pune  2015   \n",
       "2           2                      Honda Jazz V     Chennai  2011   \n",
       "3           3                 Maruti Ertiga VDI     Chennai  2012   \n",
       "4           4   Audi A4 New 2.0 TDI Multitronic  Coimbatore  2013   \n",
       "\n",
       "   Kilometers_Driven Fuel_Type Transmission Owner_Type     Mileage   Engine  \\\n",
       "0              72000       CNG       Manual      First  26.6 km/kg   998 CC   \n",
       "1              41000    Diesel       Manual      First  19.67 kmpl  1582 CC   \n",
       "2              46000    Petrol       Manual      First   18.2 kmpl  1199 CC   \n",
       "3              87000    Diesel       Manual      First  20.77 kmpl  1248 CC   \n",
       "4              40670    Diesel    Automatic     Second   15.2 kmpl  1968 CC   \n",
       "\n",
       "       Power  Seats  New_Price  Price  \n",
       "0  58.16 bhp    5.0        NaN   1.75  \n",
       "1  126.2 bhp    5.0        NaN  12.50  \n",
       "2   88.7 bhp    5.0  8.61 Lakh   4.50  \n",
       "3  88.76 bhp    7.0        NaN   6.00  \n",
       "4  140.8 bhp    5.0        NaN  17.74  "
      ]
     },
     "execution_count": 2,
     "metadata": {},
     "output_type": "execute_result"
    }
   ],
   "source": [
    "# train data 불러오기\n",
    "\n",
    "DATASET = 'E:/[daegu ai hub] Webai/Used Cars Price Prediction/'\n",
    "rawData = pd.read_csv(DATASET + 'train-data.csv')\n",
    "data = rawData.copy()\n",
    "data.head()"
   ]
  },
  {
   "cell_type": "code",
   "execution_count": 3,
   "metadata": {},
   "outputs": [
    {
     "data": {
      "text/plain": [
       "Unnamed: 0           6019\n",
       "Name                 1876\n",
       "Location               11\n",
       "Year                   22\n",
       "Kilometers_Driven    3093\n",
       "Fuel_Type               5\n",
       "Transmission            2\n",
       "Owner_Type              4\n",
       "Mileage               442\n",
       "Engine                146\n",
       "Power                 372\n",
       "Seats                   9\n",
       "New_Price             540\n",
       "Price                1373\n",
       "dtype: int64"
      ]
     },
     "execution_count": 3,
     "metadata": {},
     "output_type": "execute_result"
    }
   ],
   "source": [
    "# data 확인 \n",
    "data.nunique()\n",
    "\n",
    "# 중복값이 많을수록 수가 작게 나옴"
   ]
  },
  {
   "cell_type": "code",
   "execution_count": 4,
   "metadata": {},
   "outputs": [
    {
     "name": "stdout",
     "output_type": "stream",
     "text": [
      "<class 'pandas.core.frame.DataFrame'>\n",
      "RangeIndex: 6019 entries, 0 to 6018\n",
      "Data columns (total 14 columns):\n",
      " #   Column             Non-Null Count  Dtype  \n",
      "---  ------             --------------  -----  \n",
      " 0   Unnamed: 0         6019 non-null   int64  \n",
      " 1   Name               6019 non-null   object \n",
      " 2   Location           6019 non-null   object \n",
      " 3   Year               6019 non-null   int64  \n",
      " 4   Kilometers_Driven  6019 non-null   int64  \n",
      " 5   Fuel_Type          6019 non-null   object \n",
      " 6   Transmission       6019 non-null   object \n",
      " 7   Owner_Type         6019 non-null   object \n",
      " 8   Mileage            6017 non-null   object \n",
      " 9   Engine             5983 non-null   object \n",
      " 10  Power              5983 non-null   object \n",
      " 11  Seats              5977 non-null   float64\n",
      " 12  New_Price          824 non-null    object \n",
      " 13  Price              6019 non-null   float64\n",
      "dtypes: float64(2), int64(3), object(9)\n",
      "memory usage: 658.5+ KB\n"
     ]
    }
   ],
   "source": [
    "data.info()"
   ]
  },
  {
   "cell_type": "code",
   "execution_count": 5,
   "metadata": {},
   "outputs": [
    {
     "name": "stdout",
     "output_type": "stream",
     "text": [
      "<class 'pandas.core.frame.DataFrame'>\n",
      "RangeIndex: 6019 entries, 0 to 6018\n",
      "Data columns (total 13 columns):\n",
      " #   Column             Non-Null Count  Dtype  \n",
      "---  ------             --------------  -----  \n",
      " 0   Name               6019 non-null   object \n",
      " 1   Location           6019 non-null   object \n",
      " 2   Year               6019 non-null   int64  \n",
      " 3   Kilometers_Driven  6019 non-null   int64  \n",
      " 4   Fuel_Type          6019 non-null   object \n",
      " 5   Transmission       6019 non-null   object \n",
      " 6   Owner_Type         6019 non-null   object \n",
      " 7   Mileage            6017 non-null   object \n",
      " 8   Engine             5983 non-null   object \n",
      " 9   Power              5983 non-null   object \n",
      " 10  Seats              5977 non-null   float64\n",
      " 11  New_Price          824 non-null    object \n",
      " 12  Price              6019 non-null   float64\n",
      "dtypes: float64(2), int64(2), object(9)\n",
      "memory usage: 611.4+ KB\n"
     ]
    }
   ],
   "source": [
    "# 데이터 전처리\n",
    "\n",
    "# 불필요 컬럼 삭제\n",
    "data.drop(['Unnamed: 0'], axis=1, inplace=True)\n",
    "data.info()"
   ]
  },
  {
   "cell_type": "markdown",
   "metadata": {},
   "source": [
    "---\n",
    "## 모델 1"
   ]
  },
  {
   "cell_type": "code",
   "execution_count": 14,
   "metadata": {},
   "outputs": [
    {
     "name": "stdout",
     "output_type": "stream",
     "text": [
      "(4815, 1) (1204, 1) (4815,) (1204,)\n"
     ]
    }
   ],
   "source": [
    "## 모델 1 : 'Year'를 독립변수로 사용하여 학습\n",
    "\n",
    "# - 훈련데이터 준비\n",
    "X = data[['Year']]\n",
    "Y = data['Price']\n",
    "\n",
    "# train / test  분리 => train 8 : test 2 비율\n",
    "trainX, testX, trainY, testY = train_test_split(X, Y, test_size = 0.2, random_state=25)\n",
    "print(trainX.shape, testX.shape, trainY.shape, testY.shape)"
   ]
  },
  {
   "cell_type": "code",
   "execution_count": 15,
   "metadata": {},
   "outputs": [],
   "source": [
    "# Linear Regression 알고리즘 적용/학습\n",
    "algo = LinearRegression()\n",
    "model1 = algo.fit(trainX, trainY)"
   ]
  },
  {
   "cell_type": "code",
   "execution_count": 20,
   "metadata": {},
   "outputs": [
    {
     "name": "stdout",
     "output_type": "stream",
     "text": [
      "[1.07732921]\n",
      "-2159.458436265062\n",
      "0.07922163422010153\n"
     ]
    }
   ],
   "source": [
    "# w와 b확인, 모델 평가 ( y = w X + b )\n",
    "print(model1.coef_)\n",
    "print(model1.intercept_)\n",
    "print(model1.score(testX, testY))\n",
    "\n",
    "pred1 = model1.predict(testX)"
   ]
  },
  {
   "cell_type": "code",
   "execution_count": 18,
   "metadata": {},
   "outputs": [
    {
     "name": "stdout",
     "output_type": "stream",
     "text": [
      "MSE: 98.47753790924943\n",
      "RMSE: 9.923584932334153\n"
     ]
    }
   ],
   "source": [
    "# mse : (원래갑 - 예측값)^2\n",
    "print('MSE:',mean_squared_error(testY, pred1))\n",
    "print('RMSE:',np.sqrt(mean_squared_error(testY, pred1)))\n",
    "\n",
    "# rmse 를 최소화 해야 함.\n",
    "\n",
    "# 오차 9.9 정도면 크다..."
   ]
  },
  {
   "cell_type": "markdown",
   "metadata": {},
   "source": [
    "---\n",
    "## 모델 2"
   ]
  },
  {
   "cell_type": "code",
   "execution_count": 21,
   "metadata": {},
   "outputs": [
    {
     "data": {
      "image/png": "[encoded data removed]",
      "text/plain": [
       "<Figure size 432x288 with 1 Axes>"
      ]
     },
     "metadata": {
      "needs_background": "light"
     },
     "output_type": "display_data"
    }
   ],
   "source": [
    "# 모델 2: 'Kilometers_Driven'를 독립변수로 추가하여 학습\n",
    "\n",
    "# - boxplot 으로 이상치 확인\n",
    "\n",
    "plt.boxplot(data['Kilometers_Driven'])\n",
    "plt.show()"
   ]
  },
  {
   "cell_type": "markdown",
   "metadata": {},
   "source": [
    "이상치 제거\n",
    " - 사분위수 범위 : IQR (InterQuartile Range)\n",
    "\n",
    "<img src=\"./img/o3.png\" width=70% height=70%>"
   ]
  },
  {
   "cell_type": "code",
   "execution_count": 23,
   "metadata": {},
   "outputs": [
    {
     "data": {
      "text/plain": [
       "count    6.019000e+03\n",
       "mean     5.873838e+04\n",
       "std      9.126884e+04\n",
       "min      1.710000e+02\n",
       "25%      3.400000e+04\n",
       "50%      5.300000e+04\n",
       "75%      7.300000e+04\n",
       "max      6.500000e+06\n",
       "Name: Kilometers_Driven, dtype: float64"
      ]
     },
     "execution_count": 23,
     "metadata": {},
     "output_type": "execute_result"
    }
   ],
   "source": [
    "data['Kilometers_Driven'].describe()\n",
    "\n",
    "# max값이나 min 값은 이상치로 볼 수 있다. (전부 4 승인데...)"
   ]
  },
  {
   "cell_type": "code",
   "execution_count": 24,
   "metadata": {},
   "outputs": [
    {
     "name": "stdout",
     "output_type": "stream",
     "text": [
      "-24500.0 131500.0\n"
     ]
    }
   ],
   "source": [
    "# 사실 이 작업은 feature enginiering 하면서 해야하는 작업\n",
    "\n",
    "Q1 = (np.percentile(data['Kilometers_Driven'].values, 25))\n",
    "Q3 = (np.percentile(data['Kilometers_Driven'].values, 75))\n",
    "IQR = Q3 - Q1\n",
    "lower = Q1 - (IQR*1.5)\n",
    "upper = Q3 + (IQR*1.5)\n",
    "print(lower, upper)"
   ]
  },
  {
   "cell_type": "code",
   "execution_count": 25,
   "metadata": {},
   "outputs": [
    {
     "data": {
      "image/png": "[encoded data removed]",
      "text/plain": [
       "<Figure size 432x288 with 1 Axes>"
      ]
     },
     "metadata": {
      "needs_background": "light"
     },
     "output_type": "display_data"
    }
   ],
   "source": [
    "# 이상치를 제거한 후 박스플롯\n",
    "\n",
    "data = data[(data['Kilometers_Driven'] >= lower) & (data['Kilometers_Driven'] <= upper)]\n",
    "plt.boxplot(data['Kilometers_Driven'])\n",
    "plt.show()"
   ]
  },
  {
   "cell_type": "code",
   "execution_count": 27,
   "metadata": {},
   "outputs": [
    {
     "name": "stdout",
     "output_type": "stream",
     "text": [
      "MSE: 102.90755569991899\n",
      "RMSE: 10.144336138945663\n"
     ]
    }
   ],
   "source": [
    "X = data[['Year', 'Kilometers_Driven']] # 독립변수\n",
    "Y = data['Price'] # 종속변수\n",
    "\n",
    "# train / test  분리 => train 8 : test 2 비율\n",
    "trainX, testX, trainY, testY = train_test_split(X, Y, test_size = 0.2, random_state=25)\n",
    "\n",
    "# Linear Regression 알고리즘 적용/학습\n",
    "model2 = algo.fit(trainX, trainY)\n",
    "pred2 = model2.predict(testX)\n",
    "\n",
    "print('MSE:',mean_squared_error(testY, pred2))\n",
    "print('RMSE:',np.sqrt(mean_squared_error(testY, pred2)))\n"
   ]
  },
  {
   "cell_type": "markdown",
   "metadata": {},
   "source": [
    "---\n",
    "## 모델3"
   ]
  },
  {
   "cell_type": "code",
   "execution_count": 28,
   "metadata": {},
   "outputs": [
    {
     "data": {
      "text/html": [
       "<div>\n",
       "<style scoped>\n",
       "    .dataframe tbody tr th:only-of-type {\n",
       "        vertical-align: middle;\n",
       "    }\n",
       "\n",
       "    .dataframe tbody tr th {\n",
       "        vertical-align: top;\n",
       "    }\n",
       "\n",
       "    .dataframe thead th {\n",
       "        text-align: right;\n",
       "    }\n",
       "</style>\n",
       "<table border=\"1\" class=\"dataframe\">\n",
       "  <thead>\n",
       "    <tr style=\"text-align: right;\">\n",
       "      <th></th>\n",
       "      <th>Name</th>\n",
       "      <th>Location</th>\n",
       "      <th>Year</th>\n",
       "      <th>Kilometers_Driven</th>\n",
       "      <th>Fuel_Type</th>\n",
       "      <th>Owner_Type</th>\n",
       "      <th>Mileage</th>\n",
       "      <th>Engine</th>\n",
       "      <th>Power</th>\n",
       "      <th>Seats</th>\n",
       "      <th>New_Price</th>\n",
       "      <th>Price</th>\n",
       "      <th>Transmission_Automatic</th>\n",
       "      <th>Transmission_Manual</th>\n",
       "    </tr>\n",
       "  </thead>\n",
       "  <tbody>\n",
       "    <tr>\n",
       "      <th>0</th>\n",
       "      <td>Maruti Wagon R LXI CNG</td>\n",
       "      <td>Mumbai</td>\n",
       "      <td>2010</td>\n",
       "      <td>72000</td>\n",
       "      <td>CNG</td>\n",
       "      <td>First</td>\n",
       "      <td>26.6 km/kg</td>\n",
       "      <td>998 CC</td>\n",
       "      <td>58.16 bhp</td>\n",
       "      <td>5.0</td>\n",
       "      <td>NaN</td>\n",
       "      <td>1.75</td>\n",
       "      <td>0</td>\n",
       "      <td>1</td>\n",
       "    </tr>\n",
       "    <tr>\n",
       "      <th>1</th>\n",
       "      <td>Hyundai Creta 1.6 CRDi SX Option</td>\n",
       "      <td>Pune</td>\n",
       "      <td>2015</td>\n",
       "      <td>41000</td>\n",
       "      <td>Diesel</td>\n",
       "      <td>First</td>\n",
       "      <td>19.67 kmpl</td>\n",
       "      <td>1582 CC</td>\n",
       "      <td>126.2 bhp</td>\n",
       "      <td>5.0</td>\n",
       "      <td>NaN</td>\n",
       "      <td>12.50</td>\n",
       "      <td>0</td>\n",
       "      <td>1</td>\n",
       "    </tr>\n",
       "    <tr>\n",
       "      <th>2</th>\n",
       "      <td>Honda Jazz V</td>\n",
       "      <td>Chennai</td>\n",
       "      <td>2011</td>\n",
       "      <td>46000</td>\n",
       "      <td>Petrol</td>\n",
       "      <td>First</td>\n",
       "      <td>18.2 kmpl</td>\n",
       "      <td>1199 CC</td>\n",
       "      <td>88.7 bhp</td>\n",
       "      <td>5.0</td>\n",
       "      <td>8.61 Lakh</td>\n",
       "      <td>4.50</td>\n",
       "      <td>0</td>\n",
       "      <td>1</td>\n",
       "    </tr>\n",
       "    <tr>\n",
       "      <th>3</th>\n",
       "      <td>Maruti Ertiga VDI</td>\n",
       "      <td>Chennai</td>\n",
       "      <td>2012</td>\n",
       "      <td>87000</td>\n",
       "      <td>Diesel</td>\n",
       "      <td>First</td>\n",
       "      <td>20.77 kmpl</td>\n",
       "      <td>1248 CC</td>\n",
       "      <td>88.76 bhp</td>\n",
       "      <td>7.0</td>\n",
       "      <td>NaN</td>\n",
       "      <td>6.00</td>\n",
       "      <td>0</td>\n",
       "      <td>1</td>\n",
       "    </tr>\n",
       "    <tr>\n",
       "      <th>4</th>\n",
       "      <td>Audi A4 New 2.0 TDI Multitronic</td>\n",
       "      <td>Coimbatore</td>\n",
       "      <td>2013</td>\n",
       "      <td>40670</td>\n",
       "      <td>Diesel</td>\n",
       "      <td>Second</td>\n",
       "      <td>15.2 kmpl</td>\n",
       "      <td>1968 CC</td>\n",
       "      <td>140.8 bhp</td>\n",
       "      <td>5.0</td>\n",
       "      <td>NaN</td>\n",
       "      <td>17.74</td>\n",
       "      <td>1</td>\n",
       "      <td>0</td>\n",
       "    </tr>\n",
       "  </tbody>\n",
       "</table>\n",
       "</div>"
      ],
      "text/plain": [
       "                               Name    Location  Year  Kilometers_Driven  \\\n",
       "0            Maruti Wagon R LXI CNG      Mumbai  2010              72000   \n",
       "1  Hyundai Creta 1.6 CRDi SX Option        Pune  2015              41000   \n",
       "2                      Honda Jazz V     Chennai  2011              46000   \n",
       "3                 Maruti Ertiga VDI     Chennai  2012              87000   \n",
       "4   Audi A4 New 2.0 TDI Multitronic  Coimbatore  2013              40670   \n",
       "\n",
       "  Fuel_Type Owner_Type     Mileage   Engine      Power  Seats  New_Price  \\\n",
       "0       CNG      First  26.6 km/kg   998 CC  58.16 bhp    5.0        NaN   \n",
       "1    Diesel      First  19.67 kmpl  1582 CC  126.2 bhp    5.0        NaN   \n",
       "2    Petrol      First   18.2 kmpl  1199 CC   88.7 bhp    5.0  8.61 Lakh   \n",
       "3    Diesel      First  20.77 kmpl  1248 CC  88.76 bhp    7.0        NaN   \n",
       "4    Diesel     Second   15.2 kmpl  1968 CC  140.8 bhp    5.0        NaN   \n",
       "\n",
       "   Price  Transmission_Automatic  Transmission_Manual  \n",
       "0   1.75                       0                    1  \n",
       "1  12.50                       0                    1  \n",
       "2   4.50                       0                    1  \n",
       "3   6.00                       0                    1  \n",
       "4  17.74                       1                    0  "
      ]
     },
     "execution_count": 28,
     "metadata": {},
     "output_type": "execute_result"
    }
   ],
   "source": [
    "# 모델 3: 'Transmission'를 독립변수로 추가하여 학습\n",
    "\n",
    "# - 학습을 위해 feature는 수치화 되어야 함, 원-핫 인코딩\n",
    "\n",
    "data = pd.get_dummies(data=data, columns=['Transmission'])\n",
    "data.head()"
   ]
  },
  {
   "cell_type": "code",
   "execution_count": 30,
   "metadata": {},
   "outputs": [
    {
     "name": "stdout",
     "output_type": "stream",
     "text": [
      "MSE: 65.30971005157069\n",
      "RMSE: 8.081442324954791\n"
     ]
    }
   ],
   "source": [
    "X = data[['Year', 'Kilometers_Driven', 'Transmission_Automatic', 'Transmission_Manual']] # 독립변수\n",
    "Y = data['Price'] # 종속변수\n",
    "\n",
    "# train / test  분리 => train 8 : test 2 비율\n",
    "trainX, testX, trainY, testY = train_test_split(X, Y, test_size = 0.2, random_state=25)\n",
    "\n",
    "# Linear Regression 알고리즘 적용/학습\n",
    "model3 = algo.fit(trainX, trainY)\n",
    "pred1 = model1.predict(testX)\n",
    "\n",
    "print('MSE:',mean_squared_error(testY, pred1))\n",
    "print('RMSE:',np.sqrt(mean_squared_error(testY, pred1)))\n"
   ]
  },
  {
   "cell_type": "markdown",
   "metadata": {},
   "source": [
    "---\n",
    "## 모델 4"
   ]
  },
  {
   "cell_type": "code",
   "execution_count": 34,
   "metadata": {},
   "outputs": [
    {
     "data": {
      "text/plain": [
       "count    5817.000000\n",
       "mean        9.601425\n",
       "std        11.307906\n",
       "min         0.440000\n",
       "25%         3.500000\n",
       "50%         5.670000\n",
       "75%        10.000000\n",
       "max       160.000000\n",
       "Name: Price, dtype: float64"
      ]
     },
     "execution_count": 34,
     "metadata": {},
     "output_type": "execute_result"
    }
   ],
   "source": [
    "# 모델 4 : 'Price' 이상치 제거\n",
    "\n",
    "data['Price'].describe()"
   ]
  },
  {
   "cell_type": "code",
   "execution_count": 39,
   "metadata": {},
   "outputs": [
    {
     "name": "stdout",
     "output_type": "stream",
     "text": [
      "-24.322291618447778 43.52514188490815\n"
     ]
    }
   ],
   "source": [
    "mean = data['Price'].mean()\n",
    "std = data['Price'].std()\n",
    "lower = mean - (3*std)\n",
    "upper = mean + (3*std)\n",
    "print(lower, upper)\n",
    "\n",
    "data = data[(data['Price'] >= lower) & (data['Price'] <= upper)]"
   ]
  },
  {
   "cell_type": "code",
   "execution_count": 40,
   "metadata": {},
   "outputs": [
    {
     "name": "stdout",
     "output_type": "stream",
     "text": [
      "[pre5]MSE: 32.732645998879406\n",
      "[pre5]RMSE: 5.721245144099264\n"
     ]
    }
   ],
   "source": [
    "X = data[['Year', \n",
    "          'Kilometers_Driven', \n",
    "          'Transmission_Automatic', \n",
    "          'Transmission_Manual']]\n",
    "Y = data['Price']\n",
    "\n",
    "trainX, testX, trainY, testY = train_test_split(X, Y, test_size = 0.2, random_state=25)\n",
    "\n",
    "model4 = algo.fit(trainX, trainY)\n",
    "pred4 = model4.predict(testX)\n",
    "\n",
    "print('[pre5]MSE:',mean_squared_error(testY, pred4))\n",
    "print('[pre5]RMSE:',np.sqrt(mean_squared_error(testY, pred4)))\n"
   ]
  },
  {
   "cell_type": "markdown",
   "metadata": {},
   "source": [
    "---\n",
    "## 모델 5"
   ]
  },
  {
   "cell_type": "code",
   "execution_count": 35,
   "metadata": {},
   "outputs": [
    {
     "data": {
      "text/html": [
       "<div>\n",
       "<style scoped>\n",
       "    .dataframe tbody tr th:only-of-type {\n",
       "        vertical-align: middle;\n",
       "    }\n",
       "\n",
       "    .dataframe tbody tr th {\n",
       "        vertical-align: top;\n",
       "    }\n",
       "\n",
       "    .dataframe thead th {\n",
       "        text-align: right;\n",
       "    }\n",
       "</style>\n",
       "<table border=\"1\" class=\"dataframe\">\n",
       "  <thead>\n",
       "    <tr style=\"text-align: right;\">\n",
       "      <th></th>\n",
       "      <th>Name</th>\n",
       "      <th>Location</th>\n",
       "      <th>Year</th>\n",
       "      <th>Kilometers_Driven</th>\n",
       "      <th>Owner_Type</th>\n",
       "      <th>Mileage</th>\n",
       "      <th>Engine</th>\n",
       "      <th>Power</th>\n",
       "      <th>Seats</th>\n",
       "      <th>New_Price</th>\n",
       "      <th>Price</th>\n",
       "      <th>Transmission_Automatic</th>\n",
       "      <th>Transmission_Manual</th>\n",
       "      <th>Fuel_Type_CNG</th>\n",
       "      <th>Fuel_Type_Diesel</th>\n",
       "      <th>Fuel_Type_Electric</th>\n",
       "      <th>Fuel_Type_LPG</th>\n",
       "      <th>Fuel_Type_Petrol</th>\n",
       "    </tr>\n",
       "  </thead>\n",
       "  <tbody>\n",
       "    <tr>\n",
       "      <th>0</th>\n",
       "      <td>Maruti Wagon R LXI CNG</td>\n",
       "      <td>Mumbai</td>\n",
       "      <td>2010</td>\n",
       "      <td>72000</td>\n",
       "      <td>First</td>\n",
       "      <td>26.6 km/kg</td>\n",
       "      <td>998 CC</td>\n",
       "      <td>58.16 bhp</td>\n",
       "      <td>5.0</td>\n",
       "      <td>NaN</td>\n",
       "      <td>1.75</td>\n",
       "      <td>0</td>\n",
       "      <td>1</td>\n",
       "      <td>1</td>\n",
       "      <td>0</td>\n",
       "      <td>0</td>\n",
       "      <td>0</td>\n",
       "      <td>0</td>\n",
       "    </tr>\n",
       "    <tr>\n",
       "      <th>1</th>\n",
       "      <td>Hyundai Creta 1.6 CRDi SX Option</td>\n",
       "      <td>Pune</td>\n",
       "      <td>2015</td>\n",
       "      <td>41000</td>\n",
       "      <td>First</td>\n",
       "      <td>19.67 kmpl</td>\n",
       "      <td>1582 CC</td>\n",
       "      <td>126.2 bhp</td>\n",
       "      <td>5.0</td>\n",
       "      <td>NaN</td>\n",
       "      <td>12.50</td>\n",
       "      <td>0</td>\n",
       "      <td>1</td>\n",
       "      <td>0</td>\n",
       "      <td>1</td>\n",
       "      <td>0</td>\n",
       "      <td>0</td>\n",
       "      <td>0</td>\n",
       "    </tr>\n",
       "    <tr>\n",
       "      <th>2</th>\n",
       "      <td>Honda Jazz V</td>\n",
       "      <td>Chennai</td>\n",
       "      <td>2011</td>\n",
       "      <td>46000</td>\n",
       "      <td>First</td>\n",
       "      <td>18.2 kmpl</td>\n",
       "      <td>1199 CC</td>\n",
       "      <td>88.7 bhp</td>\n",
       "      <td>5.0</td>\n",
       "      <td>8.61 Lakh</td>\n",
       "      <td>4.50</td>\n",
       "      <td>0</td>\n",
       "      <td>1</td>\n",
       "      <td>0</td>\n",
       "      <td>0</td>\n",
       "      <td>0</td>\n",
       "      <td>0</td>\n",
       "      <td>1</td>\n",
       "    </tr>\n",
       "    <tr>\n",
       "      <th>3</th>\n",
       "      <td>Maruti Ertiga VDI</td>\n",
       "      <td>Chennai</td>\n",
       "      <td>2012</td>\n",
       "      <td>87000</td>\n",
       "      <td>First</td>\n",
       "      <td>20.77 kmpl</td>\n",
       "      <td>1248 CC</td>\n",
       "      <td>88.76 bhp</td>\n",
       "      <td>7.0</td>\n",
       "      <td>NaN</td>\n",
       "      <td>6.00</td>\n",
       "      <td>0</td>\n",
       "      <td>1</td>\n",
       "      <td>0</td>\n",
       "      <td>1</td>\n",
       "      <td>0</td>\n",
       "      <td>0</td>\n",
       "      <td>0</td>\n",
       "    </tr>\n",
       "    <tr>\n",
       "      <th>4</th>\n",
       "      <td>Audi A4 New 2.0 TDI Multitronic</td>\n",
       "      <td>Coimbatore</td>\n",
       "      <td>2013</td>\n",
       "      <td>40670</td>\n",
       "      <td>Second</td>\n",
       "      <td>15.2 kmpl</td>\n",
       "      <td>1968 CC</td>\n",
       "      <td>140.8 bhp</td>\n",
       "      <td>5.0</td>\n",
       "      <td>NaN</td>\n",
       "      <td>17.74</td>\n",
       "      <td>1</td>\n",
       "      <td>0</td>\n",
       "      <td>0</td>\n",
       "      <td>1</td>\n",
       "      <td>0</td>\n",
       "      <td>0</td>\n",
       "      <td>0</td>\n",
       "    </tr>\n",
       "  </tbody>\n",
       "</table>\n",
       "</div>"
      ],
      "text/plain": [
       "                               Name    Location  Year  Kilometers_Driven  \\\n",
       "0            Maruti Wagon R LXI CNG      Mumbai  2010              72000   \n",
       "1  Hyundai Creta 1.6 CRDi SX Option        Pune  2015              41000   \n",
       "2                      Honda Jazz V     Chennai  2011              46000   \n",
       "3                 Maruti Ertiga VDI     Chennai  2012              87000   \n",
       "4   Audi A4 New 2.0 TDI Multitronic  Coimbatore  2013              40670   \n",
       "\n",
       "  Owner_Type     Mileage   Engine      Power  Seats  New_Price  Price  \\\n",
       "0      First  26.6 km/kg   998 CC  58.16 bhp    5.0        NaN   1.75   \n",
       "1      First  19.67 kmpl  1582 CC  126.2 bhp    5.0        NaN  12.50   \n",
       "2      First   18.2 kmpl  1199 CC   88.7 bhp    5.0  8.61 Lakh   4.50   \n",
       "3      First  20.77 kmpl  1248 CC  88.76 bhp    7.0        NaN   6.00   \n",
       "4     Second   15.2 kmpl  1968 CC  140.8 bhp    5.0        NaN  17.74   \n",
       "\n",
       "   Transmission_Automatic  Transmission_Manual  Fuel_Type_CNG  \\\n",
       "0                       0                    1              1   \n",
       "1                       0                    1              0   \n",
       "2                       0                    1              0   \n",
       "3                       0                    1              0   \n",
       "4                       1                    0              0   \n",
       "\n",
       "   Fuel_Type_Diesel  Fuel_Type_Electric  Fuel_Type_LPG  Fuel_Type_Petrol  \n",
       "0                 0                   0              0                 0  \n",
       "1                 1                   0              0                 0  \n",
       "2                 0                   0              0                 1  \n",
       "3                 1                   0              0                 0  \n",
       "4                 1                   0              0                 0  "
      ]
     },
     "execution_count": 35,
     "metadata": {},
     "output_type": "execute_result"
    }
   ],
   "source": [
    "# 모델 5 : 'Fuel_type' 독립변수에 추가(원핫인코딩)\n",
    "\n",
    "data = pd.get_dummies(data = data, columns = ['Fuel_Type'])\n",
    "data.head()"
   ]
  },
  {
   "cell_type": "code",
   "execution_count": 41,
   "metadata": {},
   "outputs": [
    {
     "name": "stdout",
     "output_type": "stream",
     "text": [
      "score :  0.544491212404768\n",
      "[pre5]MSE: 28.017089558449825\n",
      "[pre5]RMSE: 5.293117187296143\n"
     ]
    }
   ],
   "source": [
    "X = data[['Year', \n",
    "          'Kilometers_Driven', \n",
    "          'Transmission_Automatic', \n",
    "          'Transmission_Manual', \n",
    "          'Fuel_Type_CNG', \n",
    "          'Fuel_Type_Diesel', \n",
    "          'Fuel_Type_Electric', \n",
    "          'Fuel_Type_LPG', \n",
    "          'Fuel_Type_Petrol']]\n",
    "Y = data['Price']\n",
    "\n",
    "trainX, testX, trainY, testY = train_test_split(X, Y, test_size = 0.2, random_state=25)\n",
    "\n",
    "model5 = algo.fit(trainX, trainY)\n",
    "pred5 = model5.predict(testX)\n",
    "print('score : ', model5.score(testX, testY))\n",
    "print('[pre5]MSE:',mean_squared_error(testY, pred5))\n",
    "print('[pre5]RMSE:',np.sqrt(mean_squared_error(testY, pred5)))\n"
   ]
  },
  {
   "cell_type": "markdown",
   "metadata": {},
   "source": [
    "---\n",
    "## 모델 6"
   ]
  },
  {
   "cell_type": "code",
   "execution_count": 44,
   "metadata": {},
   "outputs": [
    {
     "data": {
      "text/html": [
       "<div>\n",
       "<style scoped>\n",
       "    .dataframe tbody tr th:only-of-type {\n",
       "        vertical-align: middle;\n",
       "    }\n",
       "\n",
       "    .dataframe tbody tr th {\n",
       "        vertical-align: top;\n",
       "    }\n",
       "\n",
       "    .dataframe thead th {\n",
       "        text-align: right;\n",
       "    }\n",
       "</style>\n",
       "<table border=\"1\" class=\"dataframe\">\n",
       "  <thead>\n",
       "    <tr style=\"text-align: right;\">\n",
       "      <th></th>\n",
       "      <th>Name</th>\n",
       "      <th>Location</th>\n",
       "      <th>Year</th>\n",
       "      <th>Kilometers_Driven</th>\n",
       "      <th>Owner_Type</th>\n",
       "      <th>Mileage</th>\n",
       "      <th>Engine</th>\n",
       "      <th>Power</th>\n",
       "      <th>Seats</th>\n",
       "      <th>New_Price</th>\n",
       "      <th>Price</th>\n",
       "      <th>Transmission_Automatic</th>\n",
       "      <th>Transmission_Manual</th>\n",
       "      <th>Fuel_Type_CNG</th>\n",
       "      <th>Fuel_Type_Diesel</th>\n",
       "      <th>Fuel_Type_Electric</th>\n",
       "      <th>Fuel_Type_LPG</th>\n",
       "      <th>Fuel_Type_Petrol</th>\n",
       "    </tr>\n",
       "  </thead>\n",
       "  <tbody>\n",
       "    <tr>\n",
       "      <th>4446</th>\n",
       "      <td>Mahindra E Verito D4</td>\n",
       "      <td>Chennai</td>\n",
       "      <td>2016</td>\n",
       "      <td>50000</td>\n",
       "      <td>First</td>\n",
       "      <td>NaN</td>\n",
       "      <td>72 CC</td>\n",
       "      <td>41 bhp</td>\n",
       "      <td>5.0</td>\n",
       "      <td>13.58 Lakh</td>\n",
       "      <td>13.00</td>\n",
       "      <td>1</td>\n",
       "      <td>0</td>\n",
       "      <td>0</td>\n",
       "      <td>0</td>\n",
       "      <td>1</td>\n",
       "      <td>0</td>\n",
       "      <td>0</td>\n",
       "    </tr>\n",
       "    <tr>\n",
       "      <th>4904</th>\n",
       "      <td>Toyota Prius 2009-2016 Z4</td>\n",
       "      <td>Mumbai</td>\n",
       "      <td>2011</td>\n",
       "      <td>44000</td>\n",
       "      <td>First</td>\n",
       "      <td>NaN</td>\n",
       "      <td>1798 CC</td>\n",
       "      <td>73 bhp</td>\n",
       "      <td>5.0</td>\n",
       "      <td>NaN</td>\n",
       "      <td>12.75</td>\n",
       "      <td>1</td>\n",
       "      <td>0</td>\n",
       "      <td>0</td>\n",
       "      <td>0</td>\n",
       "      <td>1</td>\n",
       "      <td>0</td>\n",
       "      <td>0</td>\n",
       "    </tr>\n",
       "  </tbody>\n",
       "</table>\n",
       "</div>"
      ],
      "text/plain": [
       "                           Name Location  Year  Kilometers_Driven Owner_Type  \\\n",
       "4446       Mahindra E Verito D4  Chennai  2016              50000      First   \n",
       "4904  Toyota Prius 2009-2016 Z4   Mumbai  2011              44000      First   \n",
       "\n",
       "     Mileage   Engine   Power  Seats   New_Price  Price  \\\n",
       "4446     NaN    72 CC  41 bhp    5.0  13.58 Lakh  13.00   \n",
       "4904     NaN  1798 CC  73 bhp    5.0         NaN  12.75   \n",
       "\n",
       "      Transmission_Automatic  Transmission_Manual  Fuel_Type_CNG  \\\n",
       "4446                       1                    0              0   \n",
       "4904                       1                    0              0   \n",
       "\n",
       "      Fuel_Type_Diesel  Fuel_Type_Electric  Fuel_Type_LPG  Fuel_Type_Petrol  \n",
       "4446                 0                   1              0                 0  \n",
       "4904                 0                   1              0                 0  "
      ]
     },
     "execution_count": 44,
     "metadata": {},
     "output_type": "execute_result"
    }
   ],
   "source": [
    "# 모델 6 : 'Mileage' 독립변수에 추가 ( 결측치 제거, km/kg 제거)\n",
    "\n",
    "data[data['Mileage'].isnull()]"
   ]
  },
  {
   "cell_type": "code",
   "execution_count": 47,
   "metadata": {},
   "outputs": [
    {
     "name": "stdout",
     "output_type": "stream",
     "text": [
      "<class 'pandas.core.frame.DataFrame'>\n",
      "RangeIndex: 5669 entries, 0 to 5668\n",
      "Data columns (total 18 columns):\n",
      " #   Column                  Non-Null Count  Dtype  \n",
      "---  ------                  --------------  -----  \n",
      " 0   Name                    5669 non-null   object \n",
      " 1   Location                5669 non-null   object \n",
      " 2   Year                    5669 non-null   int64  \n",
      " 3   Kilometers_Driven       5669 non-null   int64  \n",
      " 4   Owner_Type              5669 non-null   object \n",
      " 5   Mileage                 5669 non-null   object \n",
      " 6   Engine                  5634 non-null   object \n",
      " 7   Power                   5634 non-null   object \n",
      " 8   Seats                   5628 non-null   float64\n",
      " 9   New_Price               770 non-null    object \n",
      " 10  Price                   5669 non-null   float64\n",
      " 11  Transmission_Automatic  5669 non-null   uint8  \n",
      " 12  Transmission_Manual     5669 non-null   uint8  \n",
      " 13  Fuel_Type_CNG           5669 non-null   uint8  \n",
      " 14  Fuel_Type_Diesel        5669 non-null   uint8  \n",
      " 15  Fuel_Type_Electric      5669 non-null   uint8  \n",
      " 16  Fuel_Type_LPG           5669 non-null   uint8  \n",
      " 17  Fuel_Type_Petrol        5669 non-null   uint8  \n",
      "dtypes: float64(2), int64(2), object(7), uint8(7)\n",
      "memory usage: 526.1+ KB\n"
     ]
    }
   ],
   "source": [
    "index = data[data.Mileage.isnull()].index\n",
    "data = data.drop(index)\n",
    "\n",
    "data = data.reset_index(drop=True)\n",
    "data.info()"
   ]
  },
  {
   "cell_type": "code",
   "execution_count": 48,
   "metadata": {},
   "outputs": [
    {
     "data": {
      "text/html": [
       "<div>\n",
       "<style scoped>\n",
       "    .dataframe tbody tr th:only-of-type {\n",
       "        vertical-align: middle;\n",
       "    }\n",
       "\n",
       "    .dataframe tbody tr th {\n",
       "        vertical-align: top;\n",
       "    }\n",
       "\n",
       "    .dataframe thead th {\n",
       "        text-align: right;\n",
       "    }\n",
       "</style>\n",
       "<table border=\"1\" class=\"dataframe\">\n",
       "  <thead>\n",
       "    <tr style=\"text-align: right;\">\n",
       "      <th></th>\n",
       "      <th>Name</th>\n",
       "      <th>Location</th>\n",
       "      <th>Year</th>\n",
       "      <th>Kilometers_Driven</th>\n",
       "      <th>Owner_Type</th>\n",
       "      <th>Mileage</th>\n",
       "      <th>Engine</th>\n",
       "      <th>Power</th>\n",
       "      <th>Seats</th>\n",
       "      <th>New_Price</th>\n",
       "      <th>Price</th>\n",
       "      <th>Transmission_Automatic</th>\n",
       "      <th>Transmission_Manual</th>\n",
       "      <th>Fuel_Type_CNG</th>\n",
       "      <th>Fuel_Type_Diesel</th>\n",
       "      <th>Fuel_Type_Electric</th>\n",
       "      <th>Fuel_Type_LPG</th>\n",
       "      <th>Fuel_Type_Petrol</th>\n",
       "      <th>New_Mileage</th>\n",
       "    </tr>\n",
       "  </thead>\n",
       "  <tbody>\n",
       "    <tr>\n",
       "      <th>0</th>\n",
       "      <td>Maruti Wagon R LXI CNG</td>\n",
       "      <td>Mumbai</td>\n",
       "      <td>2010</td>\n",
       "      <td>72000</td>\n",
       "      <td>First</td>\n",
       "      <td>26.6 km/kg</td>\n",
       "      <td>998 CC</td>\n",
       "      <td>58.16 bhp</td>\n",
       "      <td>5.0</td>\n",
       "      <td>NaN</td>\n",
       "      <td>1.75</td>\n",
       "      <td>0</td>\n",
       "      <td>1</td>\n",
       "      <td>1</td>\n",
       "      <td>0</td>\n",
       "      <td>0</td>\n",
       "      <td>0</td>\n",
       "      <td>0</td>\n",
       "      <td>26.6</td>\n",
       "    </tr>\n",
       "    <tr>\n",
       "      <th>1</th>\n",
       "      <td>Hyundai Creta 1.6 CRDi SX Option</td>\n",
       "      <td>Pune</td>\n",
       "      <td>2015</td>\n",
       "      <td>41000</td>\n",
       "      <td>First</td>\n",
       "      <td>19.67 kmpl</td>\n",
       "      <td>1582 CC</td>\n",
       "      <td>126.2 bhp</td>\n",
       "      <td>5.0</td>\n",
       "      <td>NaN</td>\n",
       "      <td>12.50</td>\n",
       "      <td>0</td>\n",
       "      <td>1</td>\n",
       "      <td>0</td>\n",
       "      <td>1</td>\n",
       "      <td>0</td>\n",
       "      <td>0</td>\n",
       "      <td>0</td>\n",
       "      <td>19.67</td>\n",
       "    </tr>\n",
       "    <tr>\n",
       "      <th>2</th>\n",
       "      <td>Honda Jazz V</td>\n",
       "      <td>Chennai</td>\n",
       "      <td>2011</td>\n",
       "      <td>46000</td>\n",
       "      <td>First</td>\n",
       "      <td>18.2 kmpl</td>\n",
       "      <td>1199 CC</td>\n",
       "      <td>88.7 bhp</td>\n",
       "      <td>5.0</td>\n",
       "      <td>8.61 Lakh</td>\n",
       "      <td>4.50</td>\n",
       "      <td>0</td>\n",
       "      <td>1</td>\n",
       "      <td>0</td>\n",
       "      <td>0</td>\n",
       "      <td>0</td>\n",
       "      <td>0</td>\n",
       "      <td>1</td>\n",
       "      <td>18.2</td>\n",
       "    </tr>\n",
       "    <tr>\n",
       "      <th>3</th>\n",
       "      <td>Maruti Ertiga VDI</td>\n",
       "      <td>Chennai</td>\n",
       "      <td>2012</td>\n",
       "      <td>87000</td>\n",
       "      <td>First</td>\n",
       "      <td>20.77 kmpl</td>\n",
       "      <td>1248 CC</td>\n",
       "      <td>88.76 bhp</td>\n",
       "      <td>7.0</td>\n",
       "      <td>NaN</td>\n",
       "      <td>6.00</td>\n",
       "      <td>0</td>\n",
       "      <td>1</td>\n",
       "      <td>0</td>\n",
       "      <td>1</td>\n",
       "      <td>0</td>\n",
       "      <td>0</td>\n",
       "      <td>0</td>\n",
       "      <td>20.77</td>\n",
       "    </tr>\n",
       "    <tr>\n",
       "      <th>4</th>\n",
       "      <td>Audi A4 New 2.0 TDI Multitronic</td>\n",
       "      <td>Coimbatore</td>\n",
       "      <td>2013</td>\n",
       "      <td>40670</td>\n",
       "      <td>Second</td>\n",
       "      <td>15.2 kmpl</td>\n",
       "      <td>1968 CC</td>\n",
       "      <td>140.8 bhp</td>\n",
       "      <td>5.0</td>\n",
       "      <td>NaN</td>\n",
       "      <td>17.74</td>\n",
       "      <td>1</td>\n",
       "      <td>0</td>\n",
       "      <td>0</td>\n",
       "      <td>1</td>\n",
       "      <td>0</td>\n",
       "      <td>0</td>\n",
       "      <td>0</td>\n",
       "      <td>15.2</td>\n",
       "    </tr>\n",
       "  </tbody>\n",
       "</table>\n",
       "</div>"
      ],
      "text/plain": [
       "                               Name    Location  Year  Kilometers_Driven  \\\n",
       "0            Maruti Wagon R LXI CNG      Mumbai  2010              72000   \n",
       "1  Hyundai Creta 1.6 CRDi SX Option        Pune  2015              41000   \n",
       "2                      Honda Jazz V     Chennai  2011              46000   \n",
       "3                 Maruti Ertiga VDI     Chennai  2012              87000   \n",
       "4   Audi A4 New 2.0 TDI Multitronic  Coimbatore  2013              40670   \n",
       "\n",
       "  Owner_Type     Mileage   Engine      Power  Seats  New_Price  Price  \\\n",
       "0      First  26.6 km/kg   998 CC  58.16 bhp    5.0        NaN   1.75   \n",
       "1      First  19.67 kmpl  1582 CC  126.2 bhp    5.0        NaN  12.50   \n",
       "2      First   18.2 kmpl  1199 CC   88.7 bhp    5.0  8.61 Lakh   4.50   \n",
       "3      First  20.77 kmpl  1248 CC  88.76 bhp    7.0        NaN   6.00   \n",
       "4     Second   15.2 kmpl  1968 CC  140.8 bhp    5.0        NaN  17.74   \n",
       "\n",
       "   Transmission_Automatic  Transmission_Manual  Fuel_Type_CNG  \\\n",
       "0                       0                    1              1   \n",
       "1                       0                    1              0   \n",
       "2                       0                    1              0   \n",
       "3                       0                    1              0   \n",
       "4                       1                    0              0   \n",
       "\n",
       "   Fuel_Type_Diesel  Fuel_Type_Electric  Fuel_Type_LPG  Fuel_Type_Petrol  \\\n",
       "0                 0                   0              0                 0   \n",
       "1                 1                   0              0                 0   \n",
       "2                 0                   0              0                 1   \n",
       "3                 1                   0              0                 0   \n",
       "4                 1                   0              0                 0   \n",
       "\n",
       "  New_Mileage  \n",
       "0        26.6  \n",
       "1       19.67  \n",
       "2        18.2  \n",
       "3       20.77  \n",
       "4        15.2  "
      ]
     },
     "execution_count": 48,
     "metadata": {},
     "output_type": "execute_result"
    }
   ],
   "source": [
    "for i in range(data.shape[0]):\n",
    "      data.at[i, 'New_Mileage'] = data['Mileage'][i].split()[0]\n",
    "\n",
    "data.head()"
   ]
  },
  {
   "cell_type": "code",
   "execution_count": 49,
   "metadata": {},
   "outputs": [
    {
     "name": "stdout",
     "output_type": "stream",
     "text": [
      "score:  0.6284053676459873\n",
      "MSE: 22.054414602874537\n",
      "RMSE: 4.696212793610884\n"
     ]
    }
   ],
   "source": [
    "X = data[['Year', \n",
    "          'Kilometers_Driven', \n",
    "          'Transmission_Automatic', \n",
    "          'Transmission_Manual', \n",
    "          'Fuel_Type_CNG', \n",
    "          'Fuel_Type_Diesel', \n",
    "          'Fuel_Type_Electric', \n",
    "          'Fuel_Type_LPG', \n",
    "          'Fuel_Type_Petrol', \n",
    "          'New_Mileage']]\n",
    "Y = data['Price']\n",
    "\n",
    "trainX, testX, trainY, testY = train_test_split(X, Y, test_size = 0.2, random_state=25)\n",
    "\n",
    "model6 = algo.fit(trainX, trainY)\n",
    "pred6 = model6.predict(testX)\n",
    "print('score: ', model6.score(testX, testY))\n",
    "print('MSE:',mean_squared_error(testY, pred6))\n",
    "print('RMSE:',np.sqrt(mean_squared_error(testY, pred6)))\n"
   ]
  },
  {
   "cell_type": "markdown",
   "metadata": {},
   "source": [
    "---\n",
    "모델 7"
   ]
  },
  {
   "cell_type": "code",
   "execution_count": null,
   "metadata": {},
   "outputs": [],
   "source": [
    "# 모델 7 : 'Engine Feature' 독립변수에 추가 ( 결측치 제거, CC 제거)\n"
   ]
  },
  {
   "cell_type": "markdown",
   "metadata": {},
   "source": [
    "---\n",
    "모델 8"
   ]
  },
  {
   "cell_type": "code",
   "execution_count": null,
   "metadata": {},
   "outputs": [],
   "source": [
    "# 모델 8 : 'Seats' 독립변수에 추가 ( 결측치에 최빈값으로 채우기)\n"
   ]
  },
  {
   "cell_type": "markdown",
   "metadata": {},
   "source": [
    "---\n",
    "모델 9"
   ]
  },
  {
   "cell_type": "code",
   "execution_count": null,
   "metadata": {},
   "outputs": [],
   "source": [
    "# 모델 9 : 'Power' 독립변수에 추가 ( 결측치 제거, bhp 제거)\n"
   ]
  },
  {
   "cell_type": "markdown",
   "metadata": {},
   "source": [
    "---\n",
    "모델 10"
   ]
  },
  {
   "cell_type": "code",
   "execution_count": null,
   "metadata": {},
   "outputs": [],
   "source": [
    "# 모델 10 : 'Owner_Type' 독립변수에 추가 ( 원핫인코딩)\n"
   ]
  },
  {
   "cell_type": "code",
   "execution_count": null,
   "metadata": {},
   "outputs": [],
   "source": []
  },
  {
   "cell_type": "code",
   "execution_count": null,
   "metadata": {},
   "outputs": [],
   "source": []
  }
 ],
 "metadata": {
  "interpreter": {
   "hash": "40b396f7bb4524eebe16d5148ef674cb630ecbb9edf31b1d2c1678c5ede47175"
  },
  "kernelspec": {
   "display_name": "Python 3.8.12 ('webai')",
   "language": "python",
   "name": "python3"
  },
  "language_info": {
   "codemirror_mode": {
    "name": "ipython",
    "version": 3
   },
   "file_extension": ".py",
   "mimetype": "text/x-python",
   "name": "python",
   "nbconvert_exporter": "python",
   "pygments_lexer": "ipython3",
   "version": "3.8.12"
  },
  "orig_nbformat": 4
 },
 "nbformat": 4,
 "nbformat_minor": 2
}
