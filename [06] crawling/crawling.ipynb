{
 "cells": [
  {
   "cell_type": "markdown",
   "metadata": {},
   "source": [
    "# Crawling\n",
    "\n",
    "220421\n",
    "\n",
    "크롤링 ppt \n",
    "https://docs.google.com/presentation/d/1aRs0sEbfAakwDV8Xd1l-pRuUgYi9XQLVm4jAd29kV7Q/edit#slide=id.g8345f8eaca_4_244\n",
    "\n",
    "코랩\n",
    "https://colab.research.google.com/drive/1UxfgsJF-Htu3miacTytnlW7lpGR90xY8?usp=sharing"
   ]
  },
  {
   "cell_type": "code",
   "execution_count": null,
   "metadata": {},
   "outputs": [],
   "source": []
  }
 ],
 "metadata": {
  "kernelspec": {
   "display_name": "webai",
   "language": "python",
   "name": "webai"
  },
  "language_info": {
   "name": "python",
   "version": "3.8.12"
  },
  "orig_nbformat": 4
 },
 "nbformat": 4,
 "nbformat_minor": 2
}
