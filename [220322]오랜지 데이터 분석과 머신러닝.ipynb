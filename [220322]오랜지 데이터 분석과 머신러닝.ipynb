{
 "cells": [
  {
   "cell_type": "markdown",
   "metadata": {},
   "source": [
    "22.03.22\n",
    "\n",
    "이론\n",
    "\n",
    "---\n",
    "\n",
    "데이터 사용 (캐글)\n",
    "\n",
    "A Waiter's tips\n",
    "\n",
    "https://www.kaggle.com/datasets/jsphyg/tipping?resource=download\n",
    "\n",
    "---\n",
    "\n",
    "기술통계 의 기초 레시피 5개\n",
    "\n",
    "1. 평균\n",
    "2. 표준편차\n",
    "3. 중앙값\n",
    "4. 사분위수\n",
    "5. 최빈값"
   ]
  },
  {
   "cell_type": "markdown",
   "metadata": {},
   "source": [
    "---\n",
    "\n",
    "## 평균\n",
    "\n",
    "평균의 특징\n",
    "\n",
    "- “보통 어때?” - 집단을 요약하는 대표값\n",
    "- “다른가?” - 집단 간 비교를 위한 도구\n",
    "- “왜그래?” - 이유에 대한 질문의 시작\n",
    "- “얼마일까?” - 예측 모델의 기준점\n",
    "\n",
    "---"
   ]
  },
  {
   "cell_type": "code",
   "execution_count": 4,
   "metadata": {},
   "outputs": [
    {
     "data": {
      "text/plain": [
       "[3, 3, 9, 6, 3, 6, 5, 5, 8, 5]"
      ]
     },
     "execution_count": 4,
     "metadata": {},
     "output_type": "execute_result"
    }
   ],
   "source": [
    "# 평균 : 보통의 값\n",
    "\n",
    "import random\n",
    "\n",
    "sales = [random.randint(1,10) for i in range(10)]\n",
    "sales\n"
   ]
  },
  {
   "cell_type": "code",
   "execution_count": 5,
   "metadata": {},
   "outputs": [
    {
     "data": {
      "text/plain": [
       "5.3"
      ]
     },
     "execution_count": 5,
     "metadata": {},
     "output_type": "execute_result"
    }
   ],
   "source": [
    "mean = sum(sales) / len (sales)\n",
    "mean"
   ]
  },
  {
   "cell_type": "markdown",
   "metadata": {},
   "source": [
    "평균\n",
    "\n",
    "집단을 잘 표현하는 하나의 숫자"
   ]
  },
  {
   "cell_type": "code",
   "execution_count": 8,
   "metadata": {},
   "outputs": [
    {
     "data": {
      "text/html": [
       "<div>\n",
       "<style scoped>\n",
       "    .dataframe tbody tr th:only-of-type {\n",
       "        vertical-align: middle;\n",
       "    }\n",
       "\n",
       "    .dataframe tbody tr th {\n",
       "        vertical-align: top;\n",
       "    }\n",
       "\n",
       "    .dataframe thead th {\n",
       "        text-align: right;\n",
       "    }\n",
       "</style>\n",
       "<table border=\"1\" class=\"dataframe\">\n",
       "  <thead>\n",
       "    <tr style=\"text-align: right;\">\n",
       "      <th></th>\n",
       "      <th>total_bill</th>\n",
       "      <th>tip</th>\n",
       "      <th>size</th>\n",
       "    </tr>\n",
       "  </thead>\n",
       "  <tbody>\n",
       "    <tr>\n",
       "      <th>count</th>\n",
       "      <td>244.000000</td>\n",
       "      <td>244.000000</td>\n",
       "      <td>244.000000</td>\n",
       "    </tr>\n",
       "    <tr>\n",
       "      <th>mean</th>\n",
       "      <td>19.785943</td>\n",
       "      <td>2.998279</td>\n",
       "      <td>2.569672</td>\n",
       "    </tr>\n",
       "    <tr>\n",
       "      <th>std</th>\n",
       "      <td>8.902412</td>\n",
       "      <td>1.383638</td>\n",
       "      <td>0.951100</td>\n",
       "    </tr>\n",
       "    <tr>\n",
       "      <th>min</th>\n",
       "      <td>3.070000</td>\n",
       "      <td>1.000000</td>\n",
       "      <td>1.000000</td>\n",
       "    </tr>\n",
       "    <tr>\n",
       "      <th>25%</th>\n",
       "      <td>13.347500</td>\n",
       "      <td>2.000000</td>\n",
       "      <td>2.000000</td>\n",
       "    </tr>\n",
       "    <tr>\n",
       "      <th>50%</th>\n",
       "      <td>17.795000</td>\n",
       "      <td>2.900000</td>\n",
       "      <td>2.000000</td>\n",
       "    </tr>\n",
       "    <tr>\n",
       "      <th>75%</th>\n",
       "      <td>24.127500</td>\n",
       "      <td>3.562500</td>\n",
       "      <td>3.000000</td>\n",
       "    </tr>\n",
       "    <tr>\n",
       "      <th>max</th>\n",
       "      <td>50.810000</td>\n",
       "      <td>10.000000</td>\n",
       "      <td>6.000000</td>\n",
       "    </tr>\n",
       "  </tbody>\n",
       "</table>\n",
       "</div>"
      ],
      "text/plain": [
       "       total_bill         tip        size\n",
       "count  244.000000  244.000000  244.000000\n",
       "mean    19.785943    2.998279    2.569672\n",
       "std      8.902412    1.383638    0.951100\n",
       "min      3.070000    1.000000    1.000000\n",
       "25%     13.347500    2.000000    2.000000\n",
       "50%     17.795000    2.900000    2.000000\n",
       "75%     24.127500    3.562500    3.000000\n",
       "max     50.810000   10.000000    6.000000"
      ]
     },
     "execution_count": 8,
     "metadata": {},
     "output_type": "execute_result"
    }
   ],
   "source": [
    "import pandas as pd\n",
    "\n",
    "df = pd.read_csv('https://raw.githubusercontent.com/mwaskom/seaborn-data/master/tips.csv')\n",
    "df.describe()"
   ]
  },
  {
   "cell_type": "markdown",
   "metadata": {},
   "source": [
    "---"
   ]
  },
  {
   "cell_type": "markdown",
   "metadata": {},
   "source": [
    "## 표준편차\n",
    "\n",
    "평균으로 부터의 평균 거리\n",
    "\n",
    "편들의 평균"
   ]
  },
  {
   "cell_type": "code",
   "execution_count": 10,
   "metadata": {},
   "outputs": [
    {
     "data": {
      "text/plain": [
       "5.3"
      ]
     },
     "execution_count": 10,
     "metadata": {},
     "output_type": "execute_result"
    }
   ],
   "source": [
    "mean = sum(sales) / len(sales)\n",
    "mean"
   ]
  },
  {
   "cell_type": "code",
   "execution_count": 11,
   "metadata": {},
   "outputs": [
    {
     "data": {
      "text/plain": [
       "[-2.3,\n",
       " -2.3,\n",
       " 3.7,\n",
       " 0.7000000000000002,\n",
       " -2.3,\n",
       " 0.7000000000000002,\n",
       " -0.2999999999999998,\n",
       " -0.2999999999999998,\n",
       " 2.7,\n",
       " -0.2999999999999998]"
      ]
     },
     "execution_count": 11,
     "metadata": {},
     "output_type": "execute_result"
    }
   ],
   "source": [
    "deviations = [s - mean for s in sales]\n",
    "deviations"
   ]
  },
  {
   "cell_type": "code",
   "execution_count": 12,
   "metadata": {},
   "outputs": [
    {
     "data": {
      "text/plain": [
       "1.9519221295943137"
      ]
     },
     "execution_count": 12,
     "metadata": {},
     "output_type": "execute_result"
    }
   ],
   "source": [
    "import math\n",
    "std = sum([d ** 2 for d in deviations]) / len(deviations)\n",
    "math.sqrt(std)"
   ]
  },
  {
   "cell_type": "markdown",
   "metadata": {},
   "source": [
    "집단이 어떻게 분포되어 있는지를 표현하는 숫자 (대표값) 입니다. (like scatter plot)\n",
    "\n",
    "표준편차로 알 수 있게 된것들.\n",
    "\n",
    "- 학생들의 학습 수준이 얼마나 일정한가?\n",
    "- 나의 소비 습관은 얼마나 들쭉날쭉한가?\n",
    "- 일매출은 얼마나 일정한가?\n",
    "- 선수의 득점은 얼마나 안정적인가?\n",
    "\n",
    "---\n",
    "\n",
    "집단의 분포된 정도를 비교할 수 있게 되었다.\n",
    "\n",
    "[비교]\n",
    "\n",
    "- A반과 B반 중에 학생들 성적이 더 일정한 학급?\n",
    "- 이번주 일매출은 평소보다 들쭉날쭉이었나?\n",
    "- 이번 분기 실적은 지난 분기보다 안정적이었나?\n",
    "- A선수는 B선수보다 안정적으로 득점할 수 있나?\n",
    "\n",
    "---\n",
    "\n",
    "분포와 확률\n",
    "- A반에서 임의로 선택한 학생의 성적이 90점 이상일 확률은?\n",
    "- 내일 레모네이드가 10잔 이상 팔릴 확률은?\n",
    "- A선수를 기용했을 때, 10점 미만으로 득점할 확률은?\n",
    "\n",
    "---\n",
    "\n",
    "표준편차의 특징 - 개별 값이 관심\n",
    "\n",
    "- “얼마나 일정해?” - 집단의 펴짐 정도를 설명하는 대표값\n",
    "- “다른가?” - 집단 간 퍼진 정도로 비교하는 도구\n",
    "- “왜그래?” - 이유에 대한 질문의 시작\n",
    "- “확률이 얼마나 돼?” - 통계의 해심. 확률과의 접점"
   ]
  },
  {
   "cell_type": "code",
   "execution_count": 14,
   "metadata": {},
   "outputs": [
    {
     "data": {
      "text/html": [
       "<div>\n",
       "<style scoped>\n",
       "    .dataframe tbody tr th:only-of-type {\n",
       "        vertical-align: middle;\n",
       "    }\n",
       "\n",
       "    .dataframe tbody tr th {\n",
       "        vertical-align: top;\n",
       "    }\n",
       "\n",
       "    .dataframe thead th {\n",
       "        text-align: right;\n",
       "    }\n",
       "</style>\n",
       "<table border=\"1\" class=\"dataframe\">\n",
       "  <thead>\n",
       "    <tr style=\"text-align: right;\">\n",
       "      <th></th>\n",
       "      <th>total_bill</th>\n",
       "      <th>tip</th>\n",
       "      <th>size</th>\n",
       "    </tr>\n",
       "  </thead>\n",
       "  <tbody>\n",
       "    <tr>\n",
       "      <th>count</th>\n",
       "      <td>244.000000</td>\n",
       "      <td>244.000000</td>\n",
       "      <td>244.000000</td>\n",
       "    </tr>\n",
       "    <tr>\n",
       "      <th>mean</th>\n",
       "      <td>19.785943</td>\n",
       "      <td>2.998279</td>\n",
       "      <td>2.569672</td>\n",
       "    </tr>\n",
       "    <tr>\n",
       "      <th>std</th>\n",
       "      <td>8.902412</td>\n",
       "      <td>1.383638</td>\n",
       "      <td>0.951100</td>\n",
       "    </tr>\n",
       "    <tr>\n",
       "      <th>min</th>\n",
       "      <td>3.070000</td>\n",
       "      <td>1.000000</td>\n",
       "      <td>1.000000</td>\n",
       "    </tr>\n",
       "    <tr>\n",
       "      <th>25%</th>\n",
       "      <td>13.347500</td>\n",
       "      <td>2.000000</td>\n",
       "      <td>2.000000</td>\n",
       "    </tr>\n",
       "    <tr>\n",
       "      <th>50%</th>\n",
       "      <td>17.795000</td>\n",
       "      <td>2.900000</td>\n",
       "      <td>2.000000</td>\n",
       "    </tr>\n",
       "    <tr>\n",
       "      <th>75%</th>\n",
       "      <td>24.127500</td>\n",
       "      <td>3.562500</td>\n",
       "      <td>3.000000</td>\n",
       "    </tr>\n",
       "    <tr>\n",
       "      <th>max</th>\n",
       "      <td>50.810000</td>\n",
       "      <td>10.000000</td>\n",
       "      <td>6.000000</td>\n",
       "    </tr>\n",
       "  </tbody>\n",
       "</table>\n",
       "</div>"
      ],
      "text/plain": [
       "       total_bill         tip        size\n",
       "count  244.000000  244.000000  244.000000\n",
       "mean    19.785943    2.998279    2.569672\n",
       "std      8.902412    1.383638    0.951100\n",
       "min      3.070000    1.000000    1.000000\n",
       "25%     13.347500    2.000000    2.000000\n",
       "50%     17.795000    2.900000    2.000000\n",
       "75%     24.127500    3.562500    3.000000\n",
       "max     50.810000   10.000000    6.000000"
      ]
     },
     "execution_count": 14,
     "metadata": {},
     "output_type": "execute_result"
    }
   ],
   "source": [
    "# 판다스에서 표준 편차\n",
    "\n",
    "# std : 표준편차  (시그마)\n",
    "\n",
    "df.describe()"
   ]
  },
  {
   "cell_type": "markdown",
   "metadata": {},
   "source": [
    "* 참고\n",
    "\n",
    "시그마 : 6 시그마 이면, 좌로 3, 우로 3 인 표준편차\n",
    "\n",
    "정확도 : 99.7%\n",
    "\n",
    "---"
   ]
  },
  {
   "cell_type": "markdown",
   "metadata": {},
   "source": [
    "## 요약하기\n",
    "\n",
    "* 요약의 종류\n",
    "- 대표값\n",
    "    - 관측치들의 전반적인 값을 설명\n",
    "    - 평균, 중앙값, 최빈값  \n",
    "  \n",
    "- 분포\n",
    "    - 관측치들이 흩어져 있는 정도를 설명\n",
    "    - 표준편차, 분위수\n",
    "\n"
   ]
  },
  {
   "cell_type": "code",
   "execution_count": 15,
   "metadata": {},
   "outputs": [
    {
     "data": {
      "text/html": [
       "<div>\n",
       "<style scoped>\n",
       "    .dataframe tbody tr th:only-of-type {\n",
       "        vertical-align: middle;\n",
       "    }\n",
       "\n",
       "    .dataframe tbody tr th {\n",
       "        vertical-align: top;\n",
       "    }\n",
       "\n",
       "    .dataframe thead th {\n",
       "        text-align: right;\n",
       "    }\n",
       "</style>\n",
       "<table border=\"1\" class=\"dataframe\">\n",
       "  <thead>\n",
       "    <tr style=\"text-align: right;\">\n",
       "      <th></th>\n",
       "      <th>total_bill</th>\n",
       "      <th>tip</th>\n",
       "      <th>size</th>\n",
       "    </tr>\n",
       "  </thead>\n",
       "  <tbody>\n",
       "    <tr>\n",
       "      <th>count</th>\n",
       "      <td>244.000000</td>\n",
       "      <td>244.000000</td>\n",
       "      <td>244.000000</td>\n",
       "    </tr>\n",
       "    <tr>\n",
       "      <th>mean</th>\n",
       "      <td>19.785943</td>\n",
       "      <td>2.998279</td>\n",
       "      <td>2.569672</td>\n",
       "    </tr>\n",
       "    <tr>\n",
       "      <th>std</th>\n",
       "      <td>8.902412</td>\n",
       "      <td>1.383638</td>\n",
       "      <td>0.951100</td>\n",
       "    </tr>\n",
       "    <tr>\n",
       "      <th>min</th>\n",
       "      <td>3.070000</td>\n",
       "      <td>1.000000</td>\n",
       "      <td>1.000000</td>\n",
       "    </tr>\n",
       "    <tr>\n",
       "      <th>25%</th>\n",
       "      <td>13.347500</td>\n",
       "      <td>2.000000</td>\n",
       "      <td>2.000000</td>\n",
       "    </tr>\n",
       "    <tr>\n",
       "      <th>50%</th>\n",
       "      <td>17.795000</td>\n",
       "      <td>2.900000</td>\n",
       "      <td>2.000000</td>\n",
       "    </tr>\n",
       "    <tr>\n",
       "      <th>75%</th>\n",
       "      <td>24.127500</td>\n",
       "      <td>3.562500</td>\n",
       "      <td>3.000000</td>\n",
       "    </tr>\n",
       "    <tr>\n",
       "      <th>max</th>\n",
       "      <td>50.810000</td>\n",
       "      <td>10.000000</td>\n",
       "      <td>6.000000</td>\n",
       "    </tr>\n",
       "  </tbody>\n",
       "</table>\n",
       "</div>"
      ],
      "text/plain": [
       "       total_bill         tip        size\n",
       "count  244.000000  244.000000  244.000000\n",
       "mean    19.785943    2.998279    2.569672\n",
       "std      8.902412    1.383638    0.951100\n",
       "min      3.070000    1.000000    1.000000\n",
       "25%     13.347500    2.000000    2.000000\n",
       "50%     17.795000    2.900000    2.000000\n",
       "75%     24.127500    3.562500    3.000000\n",
       "max     50.810000   10.000000    6.000000"
      ]
     },
     "execution_count": 15,
     "metadata": {},
     "output_type": "execute_result"
    }
   ],
   "source": [
    "df.describe()"
   ]
  },
  {
   "cell_type": "markdown",
   "metadata": {},
   "source": [
    "- mean    : 평균\n",
    "- std     : 표준편차\n",
    "\n",
    "- min     : 최소값\n",
    "- 25%     : 1사분위수 (Q1)\n",
    "- 50%     : 2사분위수 (Q2) (중앙값 : median)\n",
    "- 70%     : 3사분위수 (Q3)\n",
    "- max     : 최대값"
   ]
  },
  {
   "cell_type": "code",
   "execution_count": 21,
   "metadata": {},
   "outputs": [
    {
     "data": {
      "text/html": [
       "<div>\n",
       "<style scoped>\n",
       "    .dataframe tbody tr th:only-of-type {\n",
       "        vertical-align: middle;\n",
       "    }\n",
       "\n",
       "    .dataframe tbody tr th {\n",
       "        vertical-align: top;\n",
       "    }\n",
       "\n",
       "    .dataframe thead th {\n",
       "        text-align: right;\n",
       "    }\n",
       "</style>\n",
       "<table border=\"1\" class=\"dataframe\">\n",
       "  <thead>\n",
       "    <tr style=\"text-align: right;\">\n",
       "      <th></th>\n",
       "      <th>total_bill</th>\n",
       "      <th>tip</th>\n",
       "      <th>sex</th>\n",
       "      <th>smoker</th>\n",
       "      <th>day</th>\n",
       "      <th>time</th>\n",
       "      <th>size</th>\n",
       "    </tr>\n",
       "  </thead>\n",
       "  <tbody>\n",
       "    <tr>\n",
       "      <th>0</th>\n",
       "      <td>16.99</td>\n",
       "      <td>1.01</td>\n",
       "      <td>Female</td>\n",
       "      <td>No</td>\n",
       "      <td>Sun</td>\n",
       "      <td>Dinner</td>\n",
       "      <td>2</td>\n",
       "    </tr>\n",
       "    <tr>\n",
       "      <th>1</th>\n",
       "      <td>10.34</td>\n",
       "      <td>1.66</td>\n",
       "      <td>Male</td>\n",
       "      <td>No</td>\n",
       "      <td>Sun</td>\n",
       "      <td>Dinner</td>\n",
       "      <td>3</td>\n",
       "    </tr>\n",
       "    <tr>\n",
       "      <th>2</th>\n",
       "      <td>21.01</td>\n",
       "      <td>3.50</td>\n",
       "      <td>Male</td>\n",
       "      <td>No</td>\n",
       "      <td>Sun</td>\n",
       "      <td>Dinner</td>\n",
       "      <td>3</td>\n",
       "    </tr>\n",
       "    <tr>\n",
       "      <th>3</th>\n",
       "      <td>23.68</td>\n",
       "      <td>3.31</td>\n",
       "      <td>Male</td>\n",
       "      <td>No</td>\n",
       "      <td>Sun</td>\n",
       "      <td>Dinner</td>\n",
       "      <td>2</td>\n",
       "    </tr>\n",
       "    <tr>\n",
       "      <th>4</th>\n",
       "      <td>24.59</td>\n",
       "      <td>3.61</td>\n",
       "      <td>Female</td>\n",
       "      <td>No</td>\n",
       "      <td>Sun</td>\n",
       "      <td>Dinner</td>\n",
       "      <td>4</td>\n",
       "    </tr>\n",
       "  </tbody>\n",
       "</table>\n",
       "</div>"
      ],
      "text/plain": [
       "   total_bill   tip     sex smoker  day    time  size\n",
       "0       16.99  1.01  Female     No  Sun  Dinner     2\n",
       "1       10.34  1.66    Male     No  Sun  Dinner     3\n",
       "2       21.01  3.50    Male     No  Sun  Dinner     3\n",
       "3       23.68  3.31    Male     No  Sun  Dinner     2\n",
       "4       24.59  3.61  Female     No  Sun  Dinner     4"
      ]
     },
     "execution_count": 21,
     "metadata": {},
     "output_type": "execute_result"
    }
   ],
   "source": [
    "import numpy as np\n",
    "import pandas as pd\n",
    "\n",
    "import matplotlib.pyplot as plt\n",
    "import seaborn as sns\n",
    "\n",
    "df.head()\n"
   ]
  },
  {
   "cell_type": "code",
   "execution_count": 24,
   "metadata": {},
   "outputs": [
    {
     "data": {
      "text/plain": [
       "<function matplotlib.pyplot.show(close=None, block=None)>"
      ]
     },
     "execution_count": 24,
     "metadata": {},
     "output_type": "execute_result"
    },
    {
     "data": {
      "image/png": "[encoded data removed]",
      "text/plain": [
       "<Figure size 432x288 with 1 Axes>"
      ]
     },
     "metadata": {
      "needs_background": "light"
     },
     "output_type": "display_data"
    }
   ],
   "source": [
    "plt.boxplot(df['tip'])\n",
    "plt.show"
   ]
  },
  {
   "cell_type": "markdown",
   "metadata": {},
   "source": [
    "---\n",
    "\n",
    "## 번주형 변수의 요약 (통계량)\n",
    "\n",
    "- 절대빈도 : 범주별 관측치 수\n",
    "- 상대빈도 : 범주별 관측치 수의 비율\n",
    "- 대표값 : 최빈값"
   ]
  },
  {
   "cell_type": "code",
   "execution_count": 37,
   "metadata": {},
   "outputs": [
    {
     "data": {
      "text/html": [
       "<div>\n",
       "<style scoped>\n",
       "    .dataframe tbody tr th:only-of-type {\n",
       "        vertical-align: middle;\n",
       "    }\n",
       "\n",
       "    .dataframe tbody tr th {\n",
       "        vertical-align: top;\n",
       "    }\n",
       "\n",
       "    .dataframe thead th {\n",
       "        text-align: right;\n",
       "    }\n",
       "</style>\n",
       "<table border=\"1\" class=\"dataframe\">\n",
       "  <thead>\n",
       "    <tr style=\"text-align: right;\">\n",
       "      <th></th>\n",
       "      <th>절대빈도</th>\n",
       "      <th>상대빈도</th>\n",
       "    </tr>\n",
       "  </thead>\n",
       "  <tbody>\n",
       "    <tr>\n",
       "      <th>Sat</th>\n",
       "      <td>87</td>\n",
       "      <td>0.356557</td>\n",
       "    </tr>\n",
       "    <tr>\n",
       "      <th>Sun</th>\n",
       "      <td>76</td>\n",
       "      <td>0.311475</td>\n",
       "    </tr>\n",
       "    <tr>\n",
       "      <th>Thur</th>\n",
       "      <td>62</td>\n",
       "      <td>0.254098</td>\n",
       "    </tr>\n",
       "    <tr>\n",
       "      <th>Fri</th>\n",
       "      <td>19</td>\n",
       "      <td>0.077869</td>\n",
       "    </tr>\n",
       "  </tbody>\n",
       "</table>\n",
       "</div>"
      ],
      "text/plain": [
       "      절대빈도      상대빈도\n",
       "Sat     87  0.356557\n",
       "Sun     76  0.311475\n",
       "Thur    62  0.254098\n",
       "Fri     19  0.077869"
      ]
     },
     "execution_count": 37,
     "metadata": {},
     "output_type": "execute_result"
    }
   ],
   "source": [
    "pd.DataFrame({'절대빈도': df['day'].value_counts(),\n",
    "              '상대빈도': df['day'].value_counts(normalize=True)\n",
    "              })"
   ]
  },
  {
   "cell_type": "markdown",
   "metadata": {},
   "source": [
    "---\n",
    "\n",
    "## 범주형 변수의 시각화\n",
    "\n",
    "1. 막대그래프 (bar) : 절대적인 차이 확인\n",
    "\n",
    "2. 원그래프 (pie) : 상대적인 차이 확인\n",
    "\n",
    "---"
   ]
  },
  {
   "cell_type": "markdown",
   "metadata": {},
   "source": [
    "## 비교는 자연스럽지\n",
    "\n",
    "홍차 + 밀크 = 밀크티 => 홍차, 밀크 뭘 먼저 넣어야 하나?  \n",
    "NIF vs TIF (베르누이 시행 - yes, no 두가지 중 하나인 실험)\n",
    "\n",
    "---\n",
    "\n",
    "## 모집단\n",
    "\n",
    "모집단 : 대한민국 대학생 (평균키 170 / 표준편차 : 5)\n",
    "\n",
    "표본 1 : 평균키 170 / 표준편차 4  \n",
    "표본 2 : 평균키 167 / 표준편차 6  \n",
    "표본 3 : 평균키 180 / 표준편차 4  \n",
    "\n",
    "- 표본1과 표본2로 뽑혀질 확률은 높지만, 표본3으로 뽑을 확률은 매우 작다.\n",
    "\n",
    "1. 표본집단의 평균과 표준편차는 늘 다를 수 밖에 없다.\n",
    "2. 우리는 모집단이 궁금하다.\n",
    "\n",
    "3. 표본3 은 아마도 표본1과 표본2와는 모집단이 다르다고 생각하는 것이 합리적  \n",
    "   (ex) 표본3의 모집단은 농구부)\n",
    "\n",
    "=> 따라서, 집단 끼리 비교는 힘들다 (모집단이 모호하거나 모르면 비교가 힘듦)\n",
    "\n",
    "---\n",
    "\n",
    "## 질문을 확률 문제로 바꿔야 한다.\n",
    "-  두개의 맛은 다른가? (두 맛의 차이를 아는가?)\n",
    "    - 두 맛의 차이를 모르지만 7개를 맞출 확률은?\n",
    "\n",
    "- 두 집단은 다른가?\n",
    "    - 같은 모집단에서 뽑은 표본의 평균차이가 1점일 확률은?\n",
    "\n",
    "\n",
    "\n",
    "\n",
    "---\n",
    "\n"
   ]
  },
  {
   "cell_type": "markdown",
   "metadata": {},
   "source": [
    "## 상관관계 (이 변수들은 서로 관계 있나?)\n",
    "\n",
    "변수 간의 관련성을 확인\n",
    "\n",
    "- 범주형 변수 : 범주형 변수\n",
    "- 범주형 변수 : 수치형 변수\n",
    "- 수치형 변수 : 수치형 변수\n",
    "\n",
    "---\n",
    "\n",
    "거북이 vs 토끼 (가설 검정)\n",
    "\n",
    "상황 : A군과 B양이 사무실에 함께 출근했어 \n",
    " - 거북이 : 우연히 같은 시간에 도착했겠지\n",
    " - 토끼   : 둘이 출근을 함께 했을꺼야\n",
    "\n",
    "통계적으로 유의하다.\n",
    "\n",
    "---"
   ]
  },
  {
   "cell_type": "markdown",
   "metadata": {},
   "source": [
    "## 귀무가설 vs 대립가설\n",
    "\n",
    "상황 : A군과 B양이 사무실에 함께 출근했어 \n",
    " - 거북이 : 우연히 같은 시간에 도착했겠지, 둘은 사귀는게 아니야\n",
    " - 토끼   : 둘이 출근을 함께 했을꺼야, 둘은 사귀는게 확실해\n",
    "\n",
    "귀무가설 (null hypothesis, H0) : 사귀지 않는다.\n",
    " - 1종 오류 : 사귀지 않는데 사귄다고 예측한다.\n",
    "\n",
    "대립가설 (alternative hypothesis, H1) : 사귄다.\n",
    " - 2종 오류 : 사귀는데 사귀지 않는다고 예측한다.\n",
    "\n",
    "||사귀는거야|안사귀는거야|\n",
    "|:-:|:-:|:-:|\n",
    "|사귐|TP|FN(2종)|\n",
    "|안사귐|FP(1종)|TN|\n",
    "\n",
    "T : true / F : flas / P : positive / N : negative\n",
    "\n",
    "---"
   ]
  },
  {
   "cell_type": "markdown",
   "metadata": {},
   "source": [
    "## 가설검정\n",
    "\n",
    "- 귀무가설 (null hypothesis, H0, 1종 오류)\n",
    "    - 보수적 입장, 차이가 없다. 변화가 없다. 등등\n",
    "    - p-value > 0.05 일때, 귀무가설 채택\n",
    "\n",
    "- 대립가설 (alternative hypothesis, H1, 2종 오류) \n",
    "    - 우리가 바라는 무언가, 차이가 이ㅏㅆ다. 변화가 있다. 등등\n",
    "    - p-value <= 0.05 일때, 대립가설 채택>\n",
    "\n",
    "---"
   ]
  },
  {
   "cell_type": "markdown",
   "metadata": {},
   "source": [
    "상황 : 김대리와 이과장이 함께 걸어가는 것을 3번 발견했다.\n",
    "\n",
    "귀무가설\n",
    "- 김대리와 이과장은 아무 관계도 아니다. \n",
    "\n",
    "대립가설: \n",
    " - 김대리와 이과장은 특별한 관계이다.\n",
    "\n",
    "검증 질문:\n",
    " - 길거리에서 같이 있는 것이 3번 이상 발견되었을 때에 서로 아무 관계도 아닐 확률은?\n",
    "\n",
    "표본을 모은다. 3번 같이 있는 것이 발견된 사람들에게 질문하여 사귀는지 여부를 확인한다. \n",
    "- 사귐:안사귐 = 50:50 => 안사귀는 데 3번 발견될 확률 50%\n",
    "- 사귐:안사귐 = 80:20 => 안사귀는 데 3번 발견될 확률 20%\n",
    "- 사귐:안사귐 = 90:10 => 안사귀는 데 3번 발견될 확률 10%\n",
    "- 사귐:안사귐 = 95:5 => 안사귀는 데 3번 발견될 확률 5%\n",
    "\n",
    "1. 아무 관계도 아닌 두 사람이 \n",
    "2. 길거리에서 3번 발견되는 확률이 \n",
    "3. 5% 미만이라는 것을 확인. (p-value)\n",
    "\n",
    "두 사람이 3번 발견된 사건은 사귀는 관계일거야. (사귀는 관계에 대해 통계적으로 유의하다.)\n",
    "\n",
    "---"
   ]
  },
  {
   "cell_type": "markdown",
   "metadata": {},
   "source": [
    "## AB Test\n",
    " - 대조군과 실험군으로 나누어서 어떤 특정한 UI 나 알고지름의 효과를 비교하는 방법론\n",
    "\n",
    "홈피 배너에 따른 방문자 수\n",
    "\n",
    "H0 : 기본 배너든 바꾸든 일 평균 방문수에 차이 없음  \n",
    "H1 : 수정 안의 일 평균 방문수가 더 나을꺼야\n",
    "\n",
    "---"
   ]
  },
  {
   "cell_type": "code",
   "execution_count": 40,
   "metadata": {},
   "outputs": [
    {
     "name": "stdout",
     "output_type": "stream",
     "text": [
      "stats.binom_test(8, 10) > 0.109375\n",
      "stats.binom_test(9, 10) > 0.021484375\n",
      "stats.binom_test(14, 20) > 0.11531829833984375\n",
      "stats.binom_test(15, 20) > 0.04138946533203125\n",
      "stats.binom_test(60, 100) > 0.05688793364098088\n",
      "stats.binom_test(65, 100) > 0.0035176417229701587\n"
     ]
    }
   ],
   "source": [
    "# 이항 검정\n",
    "\n",
    "# 이항분포를 이용한 검정\n",
    "\n",
    "# N개 중에 K개를 맞춸을 때, 찍어서 맞췄을 가능성\n",
    "\n",
    "from scipy import stats\n",
    "\n",
    "print(\"stats.binom_test(8, 10) >\", stats.binom_test(8,10))\n",
    "print(\"stats.binom_test(9, 10) >\", stats.binom_test(9,10))\n",
    "print(\"stats.binom_test(14, 20) >\", stats.binom_test(14,20))\n",
    "print(\"stats.binom_test(15, 20) >\", stats.binom_test(15,20))\n",
    "print(\"stats.binom_test(60, 100) >\", stats.binom_test(60,100))\n",
    "print(\"stats.binom_test(65, 100) >\", stats.binom_test(65,100))"
   ]
  },
  {
   "cell_type": "code",
   "execution_count": 53,
   "metadata": {},
   "outputs": [
    {
     "name": "stdout",
     "output_type": "stream",
     "text": [
      "Ttest_indResult(statistic=3.470995787296519, pvalue=0.0013079328319337104)\n",
      "평균 :  50.309 48.126999999999995\n",
      "표준편차 :  1.945615326831077 1.9295364728348618\n",
      "[53.3  50.4  53.59 48.77 50.06 51.51 49.39 47.74 52.04 50.19 53.48 50.62\n",
      " 48.83 49.56 50.4  49.32 46.26 52.99 48.97 48.76]\n",
      "[48.2  45.69 45.39 47.41 48.13 45.88 49.14 46.57 45.96 49.47 47.26 49.9\n",
      " 48.61 51.   45.66 48.63 51.94 49.32 47.12 51.26]\n"
     ]
    }
   ],
   "source": [
    "# T검정\n",
    "\n",
    "# T분포를 이용한 검정 (자유도 = 샘플수 -1)\n",
    "\n",
    "# 두 집단의 숫자가 같은 모집단에서 뽑힌 숫자일 가능성\n",
    "\n",
    "from scipy import stats\n",
    "\n",
    "x1 = stats.norm(50,2).rvs(20).round(2)\n",
    "x2 = stats.norm(49,2).rvs(20).round(2)\n",
    "print(stats.ttest_ind(x1,x2))\n",
    "print(\"평균 : \", x1.mean(), x2.mean())\n",
    "print(\"표준편차 : \" , x1.std(), x2.std())\n",
    "print(x1)\n",
    "print(x2)"
   ]
  },
  {
   "cell_type": "code",
   "execution_count": 56,
   "metadata": {},
   "outputs": [
    {
     "name": "stdout",
     "output_type": "stream",
     "text": [
      "Ttest_indResult(statistic=0.13981679232684693, pvalue=0.8895431972571834)\n",
      "평균 :  49.643 49.553\n",
      "표준편차 :  1.9243754831113387 2.041913563302815\n",
      "[49.21 48.67 45.21 46.19 50.21 51.74 51.21 50.48 47.97 51.14 45.88 49.78\n",
      " 51.04 50.55 51.36 50.75 48.43 51.36 50.72 50.96]\n",
      "[51.52 51.9  52.52 47.39 48.38 48.41 51.71 48.87 50.58 49.88 50.72 47.32\n",
      " 48.32 49.39 50.6  50.24 45.99 52.87 49.17 45.28]\n"
     ]
    }
   ],
   "source": [
    "from scipy import stats\n",
    "\n",
    "x1 = stats.norm(50,2).rvs(20).round(2)\n",
    "x2 = stats.norm(49,2).rvs(20).round(2)\n",
    "print(stats.ttest_ind(x1,x2))\n",
    "print(\"평균 : \", x1.mean(), x2.mean())\n",
    "print(\"표준편차 : \" , x1.std(), x2.std())\n",
    "print(x1)\n",
    "print(x2)"
   ]
  },
  {
   "cell_type": "markdown",
   "metadata": {},
   "source": [
    "위 두개의 p-value 를 비교\n",
    "\n",
    "---"
   ]
  },
  {
   "cell_type": "markdown",
   "metadata": {},
   "source": [
    "## 확률 밀도 함수와 검정\n",
    "\n",
    "T분포 / T검정\n",
    " - 2개의 수치형 변수 간 차이 확인\n",
    "\n",
    "F분포 / Anova 검정\n",
    " - 3개 이상의 수치형 변수 간 차이 확인\n",
    "\n",
    "카이 제곱 분포 / 카이 제곱 검정\n",
    " - 범주형 변수 간 차이 확인\n",
    "\n",
    "참고 : https://datascienceschool.net/02%20mathematics/09.05%20%EC%82%AC%EC%9D%B4%ED%8C%8C%EC%9D%B4%EB%A5%BC%20%EC%82%AC%EC%9A%A9%ED%95%9C%20%EA%B2%80%EC%A0%95.html\n",
    "\n",
    "---"
   ]
  },
  {
   "cell_type": "code",
   "execution_count": null,
   "metadata": {},
   "outputs": [],
   "source": [
    "df[df['total_bill'] & df['sex'] == 'Male']"
   ]
  },
  {
   "cell_type": "code",
   "execution_count": 75,
   "metadata": {},
   "outputs": [
    {
     "data": {
      "text/plain": [
       "1      10.34\n",
       "2      21.01\n",
       "3      23.68\n",
       "5      25.29\n",
       "6       8.77\n",
       "       ...  \n",
       "236    12.60\n",
       "237    32.83\n",
       "239    29.03\n",
       "241    22.67\n",
       "242    17.82\n",
       "Name: total_bill, Length: 157, dtype: float64"
      ]
     },
     "execution_count": 75,
     "metadata": {},
     "output_type": "execute_result"
    }
   ],
   "source": [
    "df[df['sex'] == 'Male']['total_bill']"
   ]
  },
  {
   "cell_type": "code",
   "execution_count": 110,
   "metadata": {},
   "outputs": [
    {
     "data": {
      "text/plain": [
       "Ttest_indResult(statistic=1.3878597054212687, pvalue=0.16645623503456763)"
      ]
     },
     "execution_count": 110,
     "metadata": {},
     "output_type": "execute_result"
    }
   ],
   "source": [
    "# df t-test\n",
    "\n",
    "# 남자와 여자의 tip 간 p-value\n",
    "\n",
    "from scipy import stats\n",
    "\n",
    "ft = 'tip'\n",
    "x1 = df[df['sex'] == 'Male'][ft] # 남자의 tip\n",
    "x2 = df[df['sex'] == 'Female'][ft] # 여자의 tip\n",
    "stats.ttest_ind(x1,x2)"
   ]
  },
  {
   "cell_type": "code",
   "execution_count": 111,
   "metadata": {},
   "outputs": [
    {
     "data": {
      "text/plain": [
       "Ttest_indResult(statistic=2.2777940289803134, pvalue=0.0236116668468594)"
      ]
     },
     "execution_count": 111,
     "metadata": {},
     "output_type": "execute_result"
    }
   ],
   "source": [
    "# 남자와 여자의 total_bill 간 p-value\n",
    "\n",
    "ft = 'total_bill'\n",
    "x1 = df[df['sex'] == 'Male'][ft] # 남자의 tip\n",
    "x2 = df[df['sex'] == 'Female'][ft] # 여자의 tip\n",
    "stats.ttest_ind(x1,x2)"
   ]
  },
  {
   "cell_type": "markdown",
   "metadata": {},
   "source": [
    "## p-value 해석하기\n",
    "\n",
    "남자와 여자의 tip 간 p-value  \n",
    "p-value = 0.166 이다. (16.6%)  \n",
    "두 변수는 상관관계가 없다.\n",
    "\n",
    "남자와 여자의 tip 간 p-value  \n",
    "p-value = 0.023 이다. (2.3%)  \n",
    "두 변수는 상관관계가 있다. (sex 가 total_bill 에 영향을 미친다.)\n",
    "\n",
    "---\n"
   ]
  },
  {
   "cell_type": "code",
   "execution_count": 100,
   "metadata": {},
   "outputs": [
    {
     "data": {
      "text/plain": [
       "<function matplotlib.pyplot.show(close=None, block=None)>"
      ]
     },
     "execution_count": 100,
     "metadata": {},
     "output_type": "execute_result"
    },
    {
     "data": {
      "image/png": "[encoded data removed]",
      "text/plain": [
       "<Figure size 432x288 with 1 Axes>"
      ]
     },
     "metadata": {
      "needs_background": "light"
     },
     "output_type": "display_data"
    }
   ],
   "source": [
    "fig, ax = plt.subplots()\n",
    "ax.boxplot([x1, x2], vert =0)\n",
    "plt.yticks([1,2], ['Male', 'Female'])\n",
    "plt.show"
   ]
  },
  {
   "cell_type": "code",
   "execution_count": 109,
   "metadata": {},
   "outputs": [
    {
     "data": {
      "image/png": "[encoded data removed]",
      "text/plain": [
       "<Figure size 432x288 with 1 Axes>"
      ]
     },
     "metadata": {
      "needs_background": "light"
     },
     "output_type": "display_data"
    }
   ],
   "source": [
    "import seaborn as sns\n",
    "\n",
    "sns.boxplot(x=\"tip\", \n",
    "            y=\"sex\", \n",
    "            hue=\"sex\",\n",
    "            data=df)\n",
    "plt.show()"
   ]
  },
  {
   "cell_type": "markdown",
   "metadata": {},
   "source": [
    "## 오랜지3에서 자료를 분석해서 \n",
    "\n",
    "boxplot + p-value 로 알아낼 수 있는것\n",
    " - 범주형 변수 : 범주형 변수 사이의 상관관계 (O)\n",
    " - 범주형 변수 : 수치형 변수 사이의 상관관계 (O)\n",
    " - 수치형 변수 : 수치형 변수 사이의 상관관계 (X)\n",
    "\n",
    "---\n"
   ]
  },
  {
   "cell_type": "markdown",
   "metadata": {},
   "source": [
    "## 수치형 변수 vs 수치형 변수\n",
    "1. scatter plot\n",
    "2. 상관계수 (correlation)\n",
    "    - 1에 가까우면 양의 상관관계 (정비례)\n",
    "    - 0에 가까울 수록 상관관계 없음\n",
    "    - -1에 가까우면 음의 상관관계 (반비례)\n",
    "\n",
    "---"
   ]
  },
  {
   "cell_type": "code",
   "execution_count": 118,
   "metadata": {},
   "outputs": [
    {
     "data": {
      "image/png": "[encoded data removed]",
      "text/plain": [
       "<Figure size 432x288 with 1 Axes>"
      ]
     },
     "metadata": {
      "needs_background": "light"
     },
     "output_type": "display_data"
    }
   ],
   "source": [
    "# scatter plot\n",
    "\n",
    "import seaborn as sns\n",
    "\n",
    "sns.scatterplot(x=\"total_bill\", \n",
    "            y=\"tip\", \n",
    "            hue=\"sex\",\n",
    "            data=df)\n",
    "plt.show()"
   ]
  },
  {
   "cell_type": "code",
   "execution_count": 121,
   "metadata": {},
   "outputs": [
    {
     "data": {
      "image/png": "[encoded data removed]",
      "text/plain": [
       "<Figure size 432x288 with 1 Axes>"
      ]
     },
     "metadata": {
      "needs_background": "light"
     },
     "output_type": "display_data"
    }
   ],
   "source": [
    "# 추세선이 필요하면 regplot 사용\n",
    "\n",
    "import seaborn as sns\n",
    "\n",
    "sns.regplot(x=df[\"total_bill\"], \n",
    "            y=df[\"tip\"], \n",
    "            fit_reg=True)\n",
    "plt.show()"
   ]
  },
  {
   "cell_type": "markdown",
   "metadata": {},
   "source": [
    "---\n",
    "\n",
    "## 정리\n",
    "\n",
    "- 통계 \n",
    "    - 이해와 예측을 위한 도구이다. 집단 사이의 비교를 할 수 있게 되었다. \n",
    "    - 통계를 통해 질문하고 가설을 세운다. \n",
    "#\n",
    "- 데이터 분석의 시작\n",
    "    - 데이터 요약 - 수치형 변수 (평균, 표준편차 등), 범주형 변수 (절대빈도, 상대빈도)\n",
    "    - 데이터 상관관계 파악 - 수치형:수치형, 수치형:범주형, 범주형:범주형\n",
    "#\n",
    "- 가설 검정\n",
    "    - 귀무가설과 대립가설을 만들어 검증한다. 증명하고 싶은 것은 대립가설이다. \n",
    "    - 귀무가설의 p-value를 가지고 판단한다. 통상적인 기준은 5%. \n",
    "#\n",
    "- 오렌지에선 \n",
    "    - 변수사이의 상관관계는 BoxPlot, Correlations 위젯를 쓴다.\n",
    "    - 변수사이의 분포를 자세히 보고 싶으면 Distributions, Scatter Plot을 쓴다.\n",
    "\n",
    "---"
   ]
  },
  {
   "cell_type": "code",
   "execution_count": null,
   "metadata": {},
   "outputs": [],
   "source": []
  }
 ],
 "metadata": {
  "interpreter": {
   "hash": "40b396f7bb4524eebe16d5148ef674cb630ecbb9edf31b1d2c1678c5ede47175"
  },
  "kernelspec": {
   "display_name": "Python 3.8.12 ('webai')",
   "language": "python",
   "name": "python3"
  },
  "language_info": {
   "codemirror_mode": {
    "name": "ipython",
    "version": 3
   },
   "file_extension": ".py",
   "mimetype": "text/x-python",
   "name": "python",
   "nbconvert_exporter": "python",
   "pygments_lexer": "ipython3",
   "version": "3.8.12"
  },
  "orig_nbformat": 4
 },
 "nbformat": 4,
 "nbformat_minor": 2
}
